{
  "cells": [
    {
      "cell_type": "markdown",
      "metadata": {
        "id": "Zof7CVzwRLdT"
      },
      "source": [
        "# Time Series Analysis of `Microsoft` stock values"
      ]
    },
    {
      "cell_type": "markdown",
      "metadata": {
        "id": "dPm3trE3RLdV"
      },
      "source": [
        "Time series analysis refers to the analysis of change in the trend of the data over a period of time. Time series analysis has a variety of applications. One such application is the prediction of the future value of an item based on its past values.  \n",
        "We will demonstrate time series analysis with the help of an LSTM network. We will be predicting the future stock prices of the Apple Company (AAPL), based on its stock prices of the past 7 years."
      ]
    },
    {
      "cell_type": "markdown",
      "metadata": {
        "id": "aZGmhgzORLdW"
      },
      "source": [
        "For various manipulations we will need Numpy and will plot the results using matplotlib"
      ]
    },
    {
      "cell_type": "code",
      "execution_count": 1,
      "metadata": {
        "id": "YKP7Ol7lRLdW"
      },
      "outputs": [],
      "source": [
        "import numpy as np\n",
        "import matplotlib.pyplot as plt\n",
        "import pandas as pd\n",
        "%matplotlib inline"
      ]
    },
    {
      "cell_type": "markdown",
      "metadata": {
        "id": "FG_2kpe6RLdX"
      },
      "source": [
        "I am just curious whether my GPU card is still visible, so let me do the following."
      ]
    },
    {
      "cell_type": "code",
      "execution_count": 2,
      "metadata": {
        "id": "1jJabz20RLdX"
      },
      "outputs": [],
      "source": [
        "import tensorflow as tf"
      ]
    },
    {
      "cell_type": "code",
      "execution_count": 3,
      "metadata": {
        "colab": {
          "base_uri": "https://localhost:8080/"
        },
        "id": "JSOQoQWsRLdX",
        "outputId": "b5c3d55e-112c-4b6b-9811-7e76358dd933"
      },
      "outputs": [
        {
          "output_type": "stream",
          "name": "stdout",
          "text": [
            "[name: \"/device:CPU:0\"\n",
            "device_type: \"CPU\"\n",
            "memory_limit: 268435456\n",
            "locality {\n",
            "}\n",
            "incarnation: 11190031654805600391\n",
            "xla_global_id: -1\n",
            ", name: \"/device:GPU:0\"\n",
            "device_type: \"GPU\"\n",
            "memory_limit: 15240134656\n",
            "locality {\n",
            "  bus_id: 1\n",
            "  links {\n",
            "  }\n",
            "}\n",
            "incarnation: 12054110866463591169\n",
            "physical_device_desc: \"device: 0, name: Tesla V100-SXM2-16GB, pci bus id: 0000:00:04.0, compute capability: 7.0\"\n",
            "xla_global_id: 416903419\n",
            "]\n"
          ]
        }
      ],
      "source": [
        "from tensorflow.python.client import device_lib\n",
        "print(device_lib.list_local_devices())"
      ]
    },
    {
      "cell_type": "markdown",
      "metadata": {
        "id": "xH7MFVRzRLdY"
      },
      "source": [
        "The above will work on Google Colab as well, provided you change the runtime and select GPU."
      ]
    },
    {
      "cell_type": "markdown",
      "metadata": {
        "id": "KEB4ozbHRLdY"
      },
      "source": [
        "As a data set we will fetch a long string of stock values for a company at Yahoo Finance. For example https://finance.yahoo.com/quote/AAPL/history?p=AAPL&.tsrc=fin-srch .\n",
        "You adjust the start date and the end data of the report and then download the dataset. Fot training data we selected the period between January 4th 2016 to August 31st, 2023. Downloaded data is stored in the file AAPL.csv\n",
        "To test the predictive power of LSTM, we will use the Apple stock prices from the first day of September till October 20th, 2023. So, in order to evaluate the performance of the algorithm, as the test data, create a separate file with Apple's stock prices between September 1st and October 20th, 2023.  "
      ]
    },
    {
      "cell_type": "markdown",
      "metadata": {
        "id": "I9sk5FOoRLdZ"
      },
      "source": [
        "Downloaded data are loaded in a panda. Besides the date index, downloaded data have 6 features: Open,\tHigh,\tLow,\tClose,\tAdj Close, and\tVolume.\n",
        "    At the moment, we do not care about all of those features. We will look only at the opening price and ignore the others."
      ]
    },
    {
      "cell_type": "code",
      "source": [
        "import cv2\n",
        "from google.colab import drive\n",
        "\n",
        "drive.mount(\"/content/gdrive\")"
      ],
      "metadata": {
        "colab": {
          "base_uri": "https://localhost:8080/"
        },
        "id": "Xl2SqZAkSuxS",
        "outputId": "fbc5a70b-30b3-40b8-ab04-d0d5b560e417"
      },
      "execution_count": 4,
      "outputs": [
        {
          "output_type": "stream",
          "name": "stdout",
          "text": [
            "Mounted at /content/gdrive\n"
          ]
        }
      ]
    },
    {
      "cell_type": "code",
      "execution_count": 5,
      "metadata": {
        "id": "wEhpTL8IRLdZ"
      },
      "outputs": [],
      "source": [
        "microsoft_training_complete = pd.read_csv(r'/content/gdrive/MyDrive/ColabNotebooks/Stocks/MSFT_trunc.csv')"
      ]
    },
    {
      "cell_type": "code",
      "execution_count": 6,
      "metadata": {
        "colab": {
          "base_uri": "https://localhost:8080/",
          "height": 424
        },
        "id": "qqaby8QmRLdZ",
        "outputId": "9746d5ee-9cf9-4d25-e567-9ecf67608ca2"
      },
      "outputs": [
        {
          "output_type": "execute_result",
          "data": {
            "text/plain": [
              "            Date        Open        High         Low       Close    Volume\n",
              "0     2017-01-03   62.790001   62.840000   62.130001   62.580002  20694100\n",
              "1     2017-01-04   62.480000   62.750000   62.119999   62.299999  21340000\n",
              "2     2017-01-05   62.189999   62.660000   62.029999   62.299999  24876000\n",
              "3     2017-01-06   62.299999   63.150002   62.040001   62.840000  19922900\n",
              "4     2017-01-09   62.759998   63.080002   62.540001   62.639999  20382700\n",
              "...          ...         ...         ...         ...         ...       ...\n",
              "1672  2023-08-25  321.470001  325.359985  318.799988  322.980011  21684100\n",
              "1673  2023-08-28  325.660004  326.149994  321.720001  323.700012  14808500\n",
              "1674  2023-08-29  321.880005  328.980011  321.880005  328.410004  19284600\n",
              "1675  2023-08-30  328.670013  329.809998  326.450012  328.790009  15222100\n",
              "1676  2023-08-31  329.200012  330.910004  326.779999  327.760010  26411000\n",
              "\n",
              "[1677 rows x 6 columns]"
            ],
            "text/html": [
              "\n",
              "  <div id=\"df-dd65fc25-b35e-4565-8c50-0c1988ef2664\" class=\"colab-df-container\">\n",
              "    <div>\n",
              "<style scoped>\n",
              "    .dataframe tbody tr th:only-of-type {\n",
              "        vertical-align: middle;\n",
              "    }\n",
              "\n",
              "    .dataframe tbody tr th {\n",
              "        vertical-align: top;\n",
              "    }\n",
              "\n",
              "    .dataframe thead th {\n",
              "        text-align: right;\n",
              "    }\n",
              "</style>\n",
              "<table border=\"1\" class=\"dataframe\">\n",
              "  <thead>\n",
              "    <tr style=\"text-align: right;\">\n",
              "      <th></th>\n",
              "      <th>Date</th>\n",
              "      <th>Open</th>\n",
              "      <th>High</th>\n",
              "      <th>Low</th>\n",
              "      <th>Close</th>\n",
              "      <th>Volume</th>\n",
              "    </tr>\n",
              "  </thead>\n",
              "  <tbody>\n",
              "    <tr>\n",
              "      <th>0</th>\n",
              "      <td>2017-01-03</td>\n",
              "      <td>62.790001</td>\n",
              "      <td>62.840000</td>\n",
              "      <td>62.130001</td>\n",
              "      <td>62.580002</td>\n",
              "      <td>20694100</td>\n",
              "    </tr>\n",
              "    <tr>\n",
              "      <th>1</th>\n",
              "      <td>2017-01-04</td>\n",
              "      <td>62.480000</td>\n",
              "      <td>62.750000</td>\n",
              "      <td>62.119999</td>\n",
              "      <td>62.299999</td>\n",
              "      <td>21340000</td>\n",
              "    </tr>\n",
              "    <tr>\n",
              "      <th>2</th>\n",
              "      <td>2017-01-05</td>\n",
              "      <td>62.189999</td>\n",
              "      <td>62.660000</td>\n",
              "      <td>62.029999</td>\n",
              "      <td>62.299999</td>\n",
              "      <td>24876000</td>\n",
              "    </tr>\n",
              "    <tr>\n",
              "      <th>3</th>\n",
              "      <td>2017-01-06</td>\n",
              "      <td>62.299999</td>\n",
              "      <td>63.150002</td>\n",
              "      <td>62.040001</td>\n",
              "      <td>62.840000</td>\n",
              "      <td>19922900</td>\n",
              "    </tr>\n",
              "    <tr>\n",
              "      <th>4</th>\n",
              "      <td>2017-01-09</td>\n",
              "      <td>62.759998</td>\n",
              "      <td>63.080002</td>\n",
              "      <td>62.540001</td>\n",
              "      <td>62.639999</td>\n",
              "      <td>20382700</td>\n",
              "    </tr>\n",
              "    <tr>\n",
              "      <th>...</th>\n",
              "      <td>...</td>\n",
              "      <td>...</td>\n",
              "      <td>...</td>\n",
              "      <td>...</td>\n",
              "      <td>...</td>\n",
              "      <td>...</td>\n",
              "    </tr>\n",
              "    <tr>\n",
              "      <th>1672</th>\n",
              "      <td>2023-08-25</td>\n",
              "      <td>321.470001</td>\n",
              "      <td>325.359985</td>\n",
              "      <td>318.799988</td>\n",
              "      <td>322.980011</td>\n",
              "      <td>21684100</td>\n",
              "    </tr>\n",
              "    <tr>\n",
              "      <th>1673</th>\n",
              "      <td>2023-08-28</td>\n",
              "      <td>325.660004</td>\n",
              "      <td>326.149994</td>\n",
              "      <td>321.720001</td>\n",
              "      <td>323.700012</td>\n",
              "      <td>14808500</td>\n",
              "    </tr>\n",
              "    <tr>\n",
              "      <th>1674</th>\n",
              "      <td>2023-08-29</td>\n",
              "      <td>321.880005</td>\n",
              "      <td>328.980011</td>\n",
              "      <td>321.880005</td>\n",
              "      <td>328.410004</td>\n",
              "      <td>19284600</td>\n",
              "    </tr>\n",
              "    <tr>\n",
              "      <th>1675</th>\n",
              "      <td>2023-08-30</td>\n",
              "      <td>328.670013</td>\n",
              "      <td>329.809998</td>\n",
              "      <td>326.450012</td>\n",
              "      <td>328.790009</td>\n",
              "      <td>15222100</td>\n",
              "    </tr>\n",
              "    <tr>\n",
              "      <th>1676</th>\n",
              "      <td>2023-08-31</td>\n",
              "      <td>329.200012</td>\n",
              "      <td>330.910004</td>\n",
              "      <td>326.779999</td>\n",
              "      <td>327.760010</td>\n",
              "      <td>26411000</td>\n",
              "    </tr>\n",
              "  </tbody>\n",
              "</table>\n",
              "<p>1677 rows × 6 columns</p>\n",
              "</div>\n",
              "    <div class=\"colab-df-buttons\">\n",
              "\n",
              "  <div class=\"colab-df-container\">\n",
              "    <button class=\"colab-df-convert\" onclick=\"convertToInteractive('df-dd65fc25-b35e-4565-8c50-0c1988ef2664')\"\n",
              "            title=\"Convert this dataframe to an interactive table.\"\n",
              "            style=\"display:none;\">\n",
              "\n",
              "  <svg xmlns=\"http://www.w3.org/2000/svg\" height=\"24px\" viewBox=\"0 -960 960 960\">\n",
              "    <path d=\"M120-120v-720h720v720H120Zm60-500h600v-160H180v160Zm220 220h160v-160H400v160Zm0 220h160v-160H400v160ZM180-400h160v-160H180v160Zm440 0h160v-160H620v160ZM180-180h160v-160H180v160Zm440 0h160v-160H620v160Z\"/>\n",
              "  </svg>\n",
              "    </button>\n",
              "\n",
              "  <style>\n",
              "    .colab-df-container {\n",
              "      display:flex;\n",
              "      gap: 12px;\n",
              "    }\n",
              "\n",
              "    .colab-df-convert {\n",
              "      background-color: #E8F0FE;\n",
              "      border: none;\n",
              "      border-radius: 50%;\n",
              "      cursor: pointer;\n",
              "      display: none;\n",
              "      fill: #1967D2;\n",
              "      height: 32px;\n",
              "      padding: 0 0 0 0;\n",
              "      width: 32px;\n",
              "    }\n",
              "\n",
              "    .colab-df-convert:hover {\n",
              "      background-color: #E2EBFA;\n",
              "      box-shadow: 0px 1px 2px rgba(60, 64, 67, 0.3), 0px 1px 3px 1px rgba(60, 64, 67, 0.15);\n",
              "      fill: #174EA6;\n",
              "    }\n",
              "\n",
              "    .colab-df-buttons div {\n",
              "      margin-bottom: 4px;\n",
              "    }\n",
              "\n",
              "    [theme=dark] .colab-df-convert {\n",
              "      background-color: #3B4455;\n",
              "      fill: #D2E3FC;\n",
              "    }\n",
              "\n",
              "    [theme=dark] .colab-df-convert:hover {\n",
              "      background-color: #434B5C;\n",
              "      box-shadow: 0px 1px 3px 1px rgba(0, 0, 0, 0.15);\n",
              "      filter: drop-shadow(0px 1px 2px rgba(0, 0, 0, 0.3));\n",
              "      fill: #FFFFFF;\n",
              "    }\n",
              "  </style>\n",
              "\n",
              "    <script>\n",
              "      const buttonEl =\n",
              "        document.querySelector('#df-dd65fc25-b35e-4565-8c50-0c1988ef2664 button.colab-df-convert');\n",
              "      buttonEl.style.display =\n",
              "        google.colab.kernel.accessAllowed ? 'block' : 'none';\n",
              "\n",
              "      async function convertToInteractive(key) {\n",
              "        const element = document.querySelector('#df-dd65fc25-b35e-4565-8c50-0c1988ef2664');\n",
              "        const dataTable =\n",
              "          await google.colab.kernel.invokeFunction('convertToInteractive',\n",
              "                                                    [key], {});\n",
              "        if (!dataTable) return;\n",
              "\n",
              "        const docLinkHtml = 'Like what you see? Visit the ' +\n",
              "          '<a target=\"_blank\" href=https://colab.research.google.com/notebooks/data_table.ipynb>data table notebook</a>'\n",
              "          + ' to learn more about interactive tables.';\n",
              "        element.innerHTML = '';\n",
              "        dataTable['output_type'] = 'display_data';\n",
              "        await google.colab.output.renderOutput(dataTable, element);\n",
              "        const docLink = document.createElement('div');\n",
              "        docLink.innerHTML = docLinkHtml;\n",
              "        element.appendChild(docLink);\n",
              "      }\n",
              "    </script>\n",
              "  </div>\n",
              "\n",
              "\n",
              "<div id=\"df-0cf17374-ef2a-4dc3-b60d-8277f993e746\">\n",
              "  <button class=\"colab-df-quickchart\" onclick=\"quickchart('df-0cf17374-ef2a-4dc3-b60d-8277f993e746')\"\n",
              "            title=\"Suggest charts.\"\n",
              "            style=\"display:none;\">\n",
              "\n",
              "<svg xmlns=\"http://www.w3.org/2000/svg\" height=\"24px\"viewBox=\"0 0 24 24\"\n",
              "     width=\"24px\">\n",
              "    <g>\n",
              "        <path d=\"M19 3H5c-1.1 0-2 .9-2 2v14c0 1.1.9 2 2 2h14c1.1 0 2-.9 2-2V5c0-1.1-.9-2-2-2zM9 17H7v-7h2v7zm4 0h-2V7h2v10zm4 0h-2v-4h2v4z\"/>\n",
              "    </g>\n",
              "</svg>\n",
              "  </button>\n",
              "\n",
              "<style>\n",
              "  .colab-df-quickchart {\n",
              "      --bg-color: #E8F0FE;\n",
              "      --fill-color: #1967D2;\n",
              "      --hover-bg-color: #E2EBFA;\n",
              "      --hover-fill-color: #174EA6;\n",
              "      --disabled-fill-color: #AAA;\n",
              "      --disabled-bg-color: #DDD;\n",
              "  }\n",
              "\n",
              "  [theme=dark] .colab-df-quickchart {\n",
              "      --bg-color: #3B4455;\n",
              "      --fill-color: #D2E3FC;\n",
              "      --hover-bg-color: #434B5C;\n",
              "      --hover-fill-color: #FFFFFF;\n",
              "      --disabled-bg-color: #3B4455;\n",
              "      --disabled-fill-color: #666;\n",
              "  }\n",
              "\n",
              "  .colab-df-quickchart {\n",
              "    background-color: var(--bg-color);\n",
              "    border: none;\n",
              "    border-radius: 50%;\n",
              "    cursor: pointer;\n",
              "    display: none;\n",
              "    fill: var(--fill-color);\n",
              "    height: 32px;\n",
              "    padding: 0;\n",
              "    width: 32px;\n",
              "  }\n",
              "\n",
              "  .colab-df-quickchart:hover {\n",
              "    background-color: var(--hover-bg-color);\n",
              "    box-shadow: 0 1px 2px rgba(60, 64, 67, 0.3), 0 1px 3px 1px rgba(60, 64, 67, 0.15);\n",
              "    fill: var(--button-hover-fill-color);\n",
              "  }\n",
              "\n",
              "  .colab-df-quickchart-complete:disabled,\n",
              "  .colab-df-quickchart-complete:disabled:hover {\n",
              "    background-color: var(--disabled-bg-color);\n",
              "    fill: var(--disabled-fill-color);\n",
              "    box-shadow: none;\n",
              "  }\n",
              "\n",
              "  .colab-df-spinner {\n",
              "    border: 2px solid var(--fill-color);\n",
              "    border-color: transparent;\n",
              "    border-bottom-color: var(--fill-color);\n",
              "    animation:\n",
              "      spin 1s steps(1) infinite;\n",
              "  }\n",
              "\n",
              "  @keyframes spin {\n",
              "    0% {\n",
              "      border-color: transparent;\n",
              "      border-bottom-color: var(--fill-color);\n",
              "      border-left-color: var(--fill-color);\n",
              "    }\n",
              "    20% {\n",
              "      border-color: transparent;\n",
              "      border-left-color: var(--fill-color);\n",
              "      border-top-color: var(--fill-color);\n",
              "    }\n",
              "    30% {\n",
              "      border-color: transparent;\n",
              "      border-left-color: var(--fill-color);\n",
              "      border-top-color: var(--fill-color);\n",
              "      border-right-color: var(--fill-color);\n",
              "    }\n",
              "    40% {\n",
              "      border-color: transparent;\n",
              "      border-right-color: var(--fill-color);\n",
              "      border-top-color: var(--fill-color);\n",
              "    }\n",
              "    60% {\n",
              "      border-color: transparent;\n",
              "      border-right-color: var(--fill-color);\n",
              "    }\n",
              "    80% {\n",
              "      border-color: transparent;\n",
              "      border-right-color: var(--fill-color);\n",
              "      border-bottom-color: var(--fill-color);\n",
              "    }\n",
              "    90% {\n",
              "      border-color: transparent;\n",
              "      border-bottom-color: var(--fill-color);\n",
              "    }\n",
              "  }\n",
              "</style>\n",
              "\n",
              "  <script>\n",
              "    async function quickchart(key) {\n",
              "      const quickchartButtonEl =\n",
              "        document.querySelector('#' + key + ' button');\n",
              "      quickchartButtonEl.disabled = true;  // To prevent multiple clicks.\n",
              "      quickchartButtonEl.classList.add('colab-df-spinner');\n",
              "      try {\n",
              "        const charts = await google.colab.kernel.invokeFunction(\n",
              "            'suggestCharts', [key], {});\n",
              "      } catch (error) {\n",
              "        console.error('Error during call to suggestCharts:', error);\n",
              "      }\n",
              "      quickchartButtonEl.classList.remove('colab-df-spinner');\n",
              "      quickchartButtonEl.classList.add('colab-df-quickchart-complete');\n",
              "    }\n",
              "    (() => {\n",
              "      let quickchartButtonEl =\n",
              "        document.querySelector('#df-0cf17374-ef2a-4dc3-b60d-8277f993e746 button');\n",
              "      quickchartButtonEl.style.display =\n",
              "        google.colab.kernel.accessAllowed ? 'block' : 'none';\n",
              "    })();\n",
              "  </script>\n",
              "</div>\n",
              "\n",
              "  <div id=\"id_4e3a29ec-dfed-4cc7-9125-eabb6c7fb791\">\n",
              "    <style>\n",
              "      .colab-df-generate {\n",
              "        background-color: #E8F0FE;\n",
              "        border: none;\n",
              "        border-radius: 50%;\n",
              "        cursor: pointer;\n",
              "        display: none;\n",
              "        fill: #1967D2;\n",
              "        height: 32px;\n",
              "        padding: 0 0 0 0;\n",
              "        width: 32px;\n",
              "      }\n",
              "\n",
              "      .colab-df-generate:hover {\n",
              "        background-color: #E2EBFA;\n",
              "        box-shadow: 0px 1px 2px rgba(60, 64, 67, 0.3), 0px 1px 3px 1px rgba(60, 64, 67, 0.15);\n",
              "        fill: #174EA6;\n",
              "      }\n",
              "\n",
              "      [theme=dark] .colab-df-generate {\n",
              "        background-color: #3B4455;\n",
              "        fill: #D2E3FC;\n",
              "      }\n",
              "\n",
              "      [theme=dark] .colab-df-generate:hover {\n",
              "        background-color: #434B5C;\n",
              "        box-shadow: 0px 1px 3px 1px rgba(0, 0, 0, 0.15);\n",
              "        filter: drop-shadow(0px 1px 2px rgba(0, 0, 0, 0.3));\n",
              "        fill: #FFFFFF;\n",
              "      }\n",
              "    </style>\n",
              "    <button class=\"colab-df-generate\" onclick=\"generateWithVariable('microsoft_training_complete')\"\n",
              "            title=\"Generate code using this dataframe.\"\n",
              "            style=\"display:none;\">\n",
              "\n",
              "  <svg xmlns=\"http://www.w3.org/2000/svg\" height=\"24px\"viewBox=\"0 0 24 24\"\n",
              "       width=\"24px\">\n",
              "    <path d=\"M7,19H8.4L18.45,9,17,7.55,7,17.6ZM5,21V16.75L18.45,3.32a2,2,0,0,1,2.83,0l1.4,1.43a1.91,1.91,0,0,1,.58,1.4,1.91,1.91,0,0,1-.58,1.4L9.25,21ZM18.45,9,17,7.55Zm-12,3A5.31,5.31,0,0,0,4.9,8.1,5.31,5.31,0,0,0,1,6.5,5.31,5.31,0,0,0,4.9,4.9,5.31,5.31,0,0,0,6.5,1,5.31,5.31,0,0,0,8.1,4.9,5.31,5.31,0,0,0,12,6.5,5.46,5.46,0,0,0,6.5,12Z\"/>\n",
              "  </svg>\n",
              "    </button>\n",
              "    <script>\n",
              "      (() => {\n",
              "      const buttonEl =\n",
              "        document.querySelector('#id_4e3a29ec-dfed-4cc7-9125-eabb6c7fb791 button.colab-df-generate');\n",
              "      buttonEl.style.display =\n",
              "        google.colab.kernel.accessAllowed ? 'block' : 'none';\n",
              "\n",
              "      buttonEl.onclick = () => {\n",
              "        google.colab.notebook.generateWithVariable('microsoft_training_complete');\n",
              "      }\n",
              "      })();\n",
              "    </script>\n",
              "  </div>\n",
              "\n",
              "    </div>\n",
              "  </div>\n"
            ]
          },
          "metadata": {},
          "execution_count": 6
        }
      ],
      "source": [
        "microsoft_training_complete"
      ]
    },
    {
      "cell_type": "code",
      "execution_count": 7,
      "metadata": {
        "scrolled": true,
        "colab": {
          "base_uri": "https://localhost:8080/",
          "height": 466
        },
        "id": "SXVaivCgRLdZ",
        "outputId": "b0d5d672-69a8-404c-9326-75a85da9382c"
      },
      "outputs": [
        {
          "output_type": "execute_result",
          "data": {
            "text/plain": [
              "<Axes: xlabel='Date'>"
            ]
          },
          "metadata": {},
          "execution_count": 7
        },
        {
          "output_type": "display_data",
          "data": {
            "text/plain": [
              "<Figure size 640x480 with 1 Axes>"
            ],
            "image/png": "[encoded data removed]"
          },
          "metadata": {}
        }
      ],
      "source": [
        "microsoft_training_complete.plot(x='Date',y='Open')"
      ]
    },
    {
      "cell_type": "code",
      "execution_count": 8,
      "metadata": {
        "id": "pAUWpO3NRLdZ"
      },
      "outputs": [],
      "source": [
        "microsoft_training_processed = microsoft_training_complete.iloc[:, 1:2].values"
      ]
    },
    {
      "cell_type": "code",
      "source": [
        "microsoft_training_processed"
      ],
      "metadata": {
        "colab": {
          "base_uri": "https://localhost:8080/"
        },
        "id": "-mkRt_xq6lvB",
        "outputId": "26e6521f-792c-4a09-d6ee-648d47a87077"
      },
      "execution_count": 9,
      "outputs": [
        {
          "output_type": "execute_result",
          "data": {
            "text/plain": [
              "array([[ 62.790001],\n",
              "       [ 62.48    ],\n",
              "       [ 62.189999],\n",
              "       ...,\n",
              "       [321.880005],\n",
              "       [328.670013],\n",
              "       [329.200012]])"
            ]
          },
          "metadata": {},
          "execution_count": 9
        }
      ]
    },
    {
      "cell_type": "code",
      "execution_count": 10,
      "metadata": {
        "colab": {
          "base_uri": "https://localhost:8080/"
        },
        "id": "MlijaidqRLdZ",
        "outputId": "6289d0e0-6f4c-4cef-f0a1-570763ecf487"
      },
      "outputs": [
        {
          "output_type": "stream",
          "name": "stdout",
          "text": [
            "[[ 62.790001]\n",
            " [ 62.48    ]\n",
            " [ 62.189999]\n",
            " ...\n",
            " [321.880005]\n",
            " [328.670013]\n",
            " [329.200012]]\n",
            "length of the dataset:  1677\n"
          ]
        }
      ],
      "source": [
        "print(microsoft_training_processed)\n",
        "print(\"length of the dataset: \", microsoft_training_processed.size)"
      ]
    },
    {
      "cell_type": "markdown",
      "metadata": {
        "id": "jSHCnv6QRLda"
      },
      "source": [
        "We want to normilize our data and will use SciKitLearn `MinMaxScaler` from sklearn.preprocessing libary. All values of `Open`(ing) price will be scaled to the interval between 0 and 1."
      ]
    },
    {
      "cell_type": "code",
      "execution_count": 11,
      "metadata": {
        "id": "L9yZUhUdRLda"
      },
      "outputs": [],
      "source": [
        "from sklearn.preprocessing import MinMaxScaler\n",
        "scaler = MinMaxScaler(feature_range = (0, 1))\n",
        "\n",
        "microsoft_training_scaled = scaler.fit_transform(microsoft_training_processed)\n"
      ]
    },
    {
      "cell_type": "code",
      "source": [
        "microsoft_training_scaled"
      ],
      "metadata": {
        "colab": {
          "base_uri": "https://localhost:8080/"
        },
        "id": "Y1XTP5C660t6",
        "outputId": "b2bab7cd-b7db-4418-9fe5-60c8f4b938e6"
      },
      "execution_count": 12,
      "outputs": [
        {
          "output_type": "execute_result",
          "data": {
            "text/plain": [
              "array([[0.00200294],\n",
              "       [0.00096809],\n",
              "       [0.        ],\n",
              "       ...,\n",
              "       [0.86690481],\n",
              "       [0.88957142],\n",
              "       [0.89134067]])"
            ]
          },
          "metadata": {},
          "execution_count": 12
        }
      ]
    },
    {
      "cell_type": "markdown",
      "metadata": {
        "id": "GcnfxtalRLda"
      },
      "source": [
        "In a time series problem, we usually predict a value at time T, based on the data from the previous N time steps. In our case, we will predict `Open` price on day T, based on `Open` prices on days T-1,T-2,..., T-N. The number of steps (days), N, could be arbitray. Concretely, we will predict the opening stock price of the data based on the opening stock prices for the past 30 days. One presumes that larger N will give higher prediction. However, larger N will most probably result in longer training and possibly some loss of numerical precision."
      ]
    },
    {
      "cell_type": "code",
      "execution_count": 13,
      "metadata": {
        "colab": {
          "base_uri": "https://localhost:8080/"
        },
        "id": "yhelfY7uRLda",
        "outputId": "57e82fd5-ff2f-4af3-db36-79eb0a3f0269"
      },
      "outputs": [
        {
          "output_type": "stream",
          "name": "stdout",
          "text": [
            "(1677, 1)\n",
            "[[0.00200294]\n",
            " [0.00096809]\n",
            " [0.        ]\n",
            " ...\n",
            " [0.86690481]\n",
            " [0.88957142]\n",
            " [0.89134067]]\n"
          ]
        }
      ],
      "source": [
        "print(microsoft_training_scaled.shape)\n",
        "print(microsoft_training_scaled)"
      ]
    },
    {
      "cell_type": "markdown",
      "metadata": {
        "id": "y7Hcb_FVRLda"
      },
      "source": [
        "In the script below we create two lists: feature_set and labels. There are 1928 records in the training data. We execute a loop that starts from 61st record and stores 60 records at the beginning to the feature_set list. The 61st record is stored in the labels list. Then we move the cursor by one point and repeate the mapping."
      ]
    },
    {
      "cell_type": "code",
      "execution_count": 15,
      "metadata": {
        "id": "MSFeWGj9RLda"
      },
      "outputs": [],
      "source": [
        "features_set = []\n",
        "labels = []\n",
        "for i in range(60, 1677):\n",
        "    features_set.append(microsoft_training_scaled[i-60:i,0])\n",
        "    labels.append(microsoft_training_scaled[i,0])"
      ]
    },
    {
      "cell_type": "code",
      "source": [
        "print(len(features_set))\n",
        "print(len(labels))"
      ],
      "metadata": {
        "colab": {
          "base_uri": "https://localhost:8080/"
        },
        "id": "jczKx7-q9XkJ",
        "outputId": "973efb11-8bf8-4821-cbe8-edfaf71d0ecf"
      },
      "execution_count": 16,
      "outputs": [
        {
          "output_type": "stream",
          "name": "stdout",
          "text": [
            "1617\n",
            "1617\n"
          ]
        }
      ]
    },
    {
      "cell_type": "code",
      "source": [
        "for y in microsoft_training_scaled[0:62]:\n",
        "  print(y)"
      ],
      "metadata": {
        "colab": {
          "base_uri": "https://localhost:8080/"
        },
        "id": "xaMRQZur_6vj",
        "outputId": "03a9af71-1a3d-4707-acc1-83de55cfbd24"
      },
      "execution_count": 17,
      "outputs": [
        {
          "output_type": "stream",
          "name": "stdout",
          "text": [
            "[0.00200294]\n",
            "[0.00096809]\n",
            "[0.]\n",
            "[0.00036721]\n",
            "[0.00190279]\n",
            "[0.00180265]\n",
            "[0.00140206]\n",
            "[0.00290427]\n",
            "[0.00143544]\n",
            "[0.00163574]\n",
            "[0.00160235]\n",
            "[0.00016692]\n",
            "[0.00160235]\n",
            "[0.0017025]\n",
            "[0.00337162]\n",
            "[0.00587529]\n",
            "[0.0064428]\n",
            "[0.01068233]\n",
            "[0.01168381]\n",
            "[0.00891308]\n",
            "[0.00724396]\n",
            "[0.00353853]\n",
            "[0.00437308]\n",
            "[0.00437308]\n",
            "[0.00517427]\n",
            "[0.00460676]\n",
            "[0.00443985]\n",
            "[0.00687676]\n",
            "[0.00684337]\n",
            "[0.00741089]\n",
            "[0.00771131]\n",
            "[0.00851248]\n",
            "[0.00761117]\n",
            "[0.00807852]\n",
            "[0.00714382]\n",
            "[0.00744425]\n",
            "[0.00781146]\n",
            "[0.00784485]\n",
            "[0.00630926]\n",
            "[0.00647616]\n",
            "[0.00834558]\n",
            "[0.00600882]\n",
            "[0.00594205]\n",
            "[0.00667647]\n",
            "[0.00691014]\n",
            "[0.0100147]\n",
            "[0.00974764]\n",
            "[0.00941382]\n",
            "[0.00781146]\n",
            "[0.00787823]\n",
            "[0.00854587]\n",
            "[0.00908]\n",
            "[0.00908]\n",
            "[0.0100147]\n",
            "[0.0064428]\n",
            "[0.00918014]\n",
            "[0.01058219]\n",
            "[0.00814527]\n",
            "[0.0092469]\n",
            "[0.00978103]\n",
            "[0.01078248]\n",
            "[0.01155028]\n"
          ]
        }
      ]
    },
    {
      "cell_type": "code",
      "source": [
        "for x in labels[0:5]:\n",
        "    print(x)"
      ],
      "metadata": {
        "colab": {
          "base_uri": "https://localhost:8080/"
        },
        "id": "2pxLDDKS-VTK",
        "outputId": "4d9496aa-facc-4365-b69b-fafdf79bb8ed"
      },
      "execution_count": 18,
      "outputs": [
        {
          "output_type": "stream",
          "name": "stdout",
          "text": [
            "0.010782477597868628\n",
            "0.011550283710941772\n",
            "0.012084387060741109\n",
            "0.010682334054338577\n",
            "0.0137201361539587\n"
          ]
        }
      ]
    },
    {
      "cell_type": "code",
      "source": [
        "for x in features_set[0:5]:\n",
        "    print(x)\n",
        "#print(labels)"
      ],
      "metadata": {
        "colab": {
          "base_uri": "https://localhost:8080/"
        },
        "id": "2f3fmuTr7Lun",
        "outputId": "7aac6cba-7775-4117-abb9-55d39670a73a"
      },
      "execution_count": 19,
      "outputs": [
        {
          "output_type": "stream",
          "name": "stdout",
          "text": [
            "[0.00200294 0.00096809 0.         0.00036721 0.00190279 0.00180265\n",
            " 0.00140206 0.00290427 0.00143544 0.00163574 0.00160235 0.00016692\n",
            " 0.00160235 0.0017025  0.00337162 0.00587529 0.0064428  0.01068233\n",
            " 0.01168381 0.00891308 0.00724396 0.00353853 0.00437308 0.00437308\n",
            " 0.00517427 0.00460676 0.00443985 0.00687676 0.00684337 0.00741089\n",
            " 0.00771131 0.00851248 0.00761117 0.00807852 0.00714382 0.00744425\n",
            " 0.00781146 0.00784485 0.00630926 0.00647616 0.00834558 0.00600882\n",
            " 0.00594205 0.00667647 0.00691014 0.0100147  0.00974764 0.00941382\n",
            " 0.00781146 0.00787823 0.00854587 0.00908    0.00908    0.0100147\n",
            " 0.0064428  0.00918014 0.01058219 0.00814527 0.0092469  0.00978103]\n",
            "[0.00096809 0.         0.00036721 0.00190279 0.00180265 0.00140206\n",
            " 0.00290427 0.00143544 0.00163574 0.00160235 0.00016692 0.00160235\n",
            " 0.0017025  0.00337162 0.00587529 0.0064428  0.01068233 0.01168381\n",
            " 0.00891308 0.00724396 0.00353853 0.00437308 0.00437308 0.00517427\n",
            " 0.00460676 0.00443985 0.00687676 0.00684337 0.00741089 0.00771131\n",
            " 0.00851248 0.00761117 0.00807852 0.00714382 0.00744425 0.00781146\n",
            " 0.00784485 0.00630926 0.00647616 0.00834558 0.00600882 0.00594205\n",
            " 0.00667647 0.00691014 0.0100147  0.00974764 0.00941382 0.00781146\n",
            " 0.00787823 0.00854587 0.00908    0.00908    0.0100147  0.0064428\n",
            " 0.00918014 0.01058219 0.00814527 0.0092469  0.00978103 0.01078248]\n",
            "[0.         0.00036721 0.00190279 0.00180265 0.00140206 0.00290427\n",
            " 0.00143544 0.00163574 0.00160235 0.00016692 0.00160235 0.0017025\n",
            " 0.00337162 0.00587529 0.0064428  0.01068233 0.01168381 0.00891308\n",
            " 0.00724396 0.00353853 0.00437308 0.00437308 0.00517427 0.00460676\n",
            " 0.00443985 0.00687676 0.00684337 0.00741089 0.00771131 0.00851248\n",
            " 0.00761117 0.00807852 0.00714382 0.00744425 0.00781146 0.00784485\n",
            " 0.00630926 0.00647616 0.00834558 0.00600882 0.00594205 0.00667647\n",
            " 0.00691014 0.0100147  0.00974764 0.00941382 0.00781146 0.00787823\n",
            " 0.00854587 0.00908    0.00908    0.0100147  0.0064428  0.00918014\n",
            " 0.01058219 0.00814527 0.0092469  0.00978103 0.01078248 0.01155028]\n",
            "[0.00036721 0.00190279 0.00180265 0.00140206 0.00290427 0.00143544\n",
            " 0.00163574 0.00160235 0.00016692 0.00160235 0.0017025  0.00337162\n",
            " 0.00587529 0.0064428  0.01068233 0.01168381 0.00891308 0.00724396\n",
            " 0.00353853 0.00437308 0.00437308 0.00517427 0.00460676 0.00443985\n",
            " 0.00687676 0.00684337 0.00741089 0.00771131 0.00851248 0.00761117\n",
            " 0.00807852 0.00714382 0.00744425 0.00781146 0.00784485 0.00630926\n",
            " 0.00647616 0.00834558 0.00600882 0.00594205 0.00667647 0.00691014\n",
            " 0.0100147  0.00974764 0.00941382 0.00781146 0.00787823 0.00854587\n",
            " 0.00908    0.00908    0.0100147  0.0064428  0.00918014 0.01058219\n",
            " 0.00814527 0.0092469  0.00978103 0.01078248 0.01155028 0.01208439]\n",
            "[0.00190279 0.00180265 0.00140206 0.00290427 0.00143544 0.00163574\n",
            " 0.00160235 0.00016692 0.00160235 0.0017025  0.00337162 0.00587529\n",
            " 0.0064428  0.01068233 0.01168381 0.00891308 0.00724396 0.00353853\n",
            " 0.00437308 0.00437308 0.00517427 0.00460676 0.00443985 0.00687676\n",
            " 0.00684337 0.00741089 0.00771131 0.00851248 0.00761117 0.00807852\n",
            " 0.00714382 0.00744425 0.00781146 0.00784485 0.00630926 0.00647616\n",
            " 0.00834558 0.00600882 0.00594205 0.00667647 0.00691014 0.0100147\n",
            " 0.00974764 0.00941382 0.00781146 0.00787823 0.00854587 0.00908\n",
            " 0.00908    0.0100147  0.0064428  0.00918014 0.01058219 0.00814527\n",
            " 0.0092469  0.00978103 0.01078248 0.01155028 0.01208439 0.01068233]\n"
          ]
        }
      ]
    },
    {
      "cell_type": "code",
      "execution_count": 20,
      "metadata": {
        "colab": {
          "base_uri": "https://localhost:8080/"
        },
        "id": "KlJjOv8nRLda",
        "outputId": "5e388462-4f08-4746-bd61-001da452734a"
      },
      "outputs": [
        {
          "output_type": "stream",
          "name": "stdout",
          "text": [
            "1617\n",
            "1617\n",
            "60\n",
            "0.010782477597868628\n"
          ]
        }
      ],
      "source": [
        "print(len(features_set))\n",
        "print(len(labels))\n",
        "print(len(features_set[0]))\n",
        "#print(features_set)\n",
        "print(labels[0])"
      ]
    },
    {
      "cell_type": "markdown",
      "metadata": {
        "id": "giEXq4VcRLda"
      },
      "source": [
        "We need to convert both the `feature_set` and the `labels list` to numpy arrays before we could use them for training. Execute the following code:"
      ]
    },
    {
      "cell_type": "code",
      "execution_count": 21,
      "metadata": {
        "id": "ndBsAaUYRLda"
      },
      "outputs": [],
      "source": [
        "features_set, labels = np.array(features_set), np.array(labels)"
      ]
    },
    {
      "cell_type": "markdown",
      "metadata": {
        "id": "7Lvs0swARLdb"
      },
      "source": [
        "What are the dimensions of the feature set?"
      ]
    },
    {
      "cell_type": "code",
      "execution_count": 22,
      "metadata": {
        "colab": {
          "base_uri": "https://localhost:8080/"
        },
        "id": "cgE3IE8HRLdb",
        "outputId": "2b7473a2-857a-4171-aa8e-d4910caa5a9d"
      },
      "outputs": [
        {
          "output_type": "stream",
          "name": "stdout",
          "text": [
            "(1617, 60)\n",
            "1617 60\n"
          ]
        }
      ],
      "source": [
        "print(features_set.shape)\n",
        "print(features_set.shape[0], features_set.shape[1])"
      ]
    },
    {
      "cell_type": "code",
      "execution_count": 23,
      "metadata": {
        "colab": {
          "base_uri": "https://localhost:8080/"
        },
        "id": "_jXwj_XORLdb",
        "outputId": "f3747ae7-151e-4b47-ff57-3d892a69893e"
      },
      "outputs": [
        {
          "output_type": "stream",
          "name": "stdout",
          "text": [
            "(1617,)\n",
            "[0.01078248 0.01155028 0.01208439 ... 0.86690481 0.88957142 0.89134067]\n"
          ]
        }
      ],
      "source": [
        "print(labels.shape)\n",
        "print(labels)"
      ]
    },
    {
      "cell_type": "markdown",
      "metadata": {
        "id": "NmU2yMJmRLdb"
      },
      "source": [
        "## Convert Training Data to Right Shape\n",
        "In order to train LSTM, we need to convert our data into the shape accepted by the LSTM.\n",
        "LSTM expects a three-dimensional format.\n",
        "The first dimension is the number of records or rows in the dataset which is 1868 in our case.\n",
        "The second dimension is the number of time steps which is 60.\n",
        "The last dimension is the number of indicators. Since we are only using one feature, i.e Open, the number of indicators will be 1. Execute the following:"
      ]
    },
    {
      "cell_type": "code",
      "execution_count": 24,
      "metadata": {
        "id": "w-WodifCRLdb"
      },
      "outputs": [],
      "source": [
        "features_set = np.reshape(features_set, (features_set.shape[0], features_set.shape[1], 1))"
      ]
    },
    {
      "cell_type": "code",
      "execution_count": 25,
      "metadata": {
        "colab": {
          "base_uri": "https://localhost:8080/"
        },
        "id": "eUf4lGdTRLdb",
        "outputId": "71aa014c-55ae-43fd-acb0-dfef4f1aa53c"
      },
      "outputs": [
        {
          "output_type": "stream",
          "name": "stdout",
          "text": [
            "(1617, 60, 1)\n"
          ]
        }
      ],
      "source": [
        "print(features_set.shape)"
      ]
    },
    {
      "cell_type": "markdown",
      "metadata": {
        "id": "TCiu-gcmRLdb"
      },
      "source": [
        "## Traning the LSTM\n",
        "We will use Keras API.  \n",
        "The LSTM model we will create is sequential model with multiple layers. We will use four LSTM layers followed by a dense layer that predicts the future stock price.\n",
        "Let's first import the libraries that we will need in order to create our model:"
      ]
    },
    {
      "cell_type": "code",
      "execution_count": 26,
      "metadata": {
        "id": "t9Cm5g2HRLdb"
      },
      "outputs": [],
      "source": [
        "import tensorflow as tf\n",
        "from tensorflow import keras\n",
        "from tensorflow.keras.models import Sequential\n",
        "from tensorflow.keras.layers import Dense\n",
        "from tensorflow.keras.layers import LSTM\n",
        "from tensorflow.keras.layers import Dropout"
      ]
    },
    {
      "cell_type": "markdown",
      "metadata": {
        "id": "uEyFHLLNRLdb"
      },
      "source": [
        "## Building the Model\n",
        "\n",
        "As a first step, we need to instantiate the Sequential class. This is our model class. We will add LSTM, Dropout and Dense layers to this model. The first parameter to the LSTM layer is the number of neurons or nodes that we want in the layer. The second parameter is `return_sequences`, which is set to `True` since we will add more layers to the model. The first parameter to the `input_shape` is the number of time steps while the last parameter is the number of indicators.\n",
        "\n",
        "`return_sequences`=`True`: `Boolean`. Whether to return the last output in the output sequence, or the full sequence. That return sequences return the hidden state output for each input time step. When stacking LSTM layers you must set `return_sequnce` to `True`\n",
        "We are leaving\n",
        "`unroll=False`: `Boolean` (default `False`). If `True`, the network will be unrolled, else a symbolic loop will be used. Unrolling can speed-up a RNN, although it tends to be more memory-intensive. Unrolling is only suitable for short sequences."
      ]
    },
    {
      "cell_type": "code",
      "execution_count": 27,
      "metadata": {
        "id": "RSk6rUKFRLdc"
      },
      "outputs": [],
      "source": [
        "model = Sequential()\n",
        "model.add(LSTM(units=50, return_sequences=True, input_shape=(features_set.shape[1], 1),unroll=False))"
      ]
    },
    {
      "cell_type": "markdown",
      "metadata": {
        "id": "6bTW2sK2RLdc"
      },
      "source": [
        "To avoid over-fitting, we will add Dropout layers after every LSTM layer."
      ]
    },
    {
      "cell_type": "code",
      "execution_count": 28,
      "metadata": {
        "id": "uDltjafDRLdc"
      },
      "outputs": [],
      "source": [
        "model.add(Dropout(0.2))"
      ]
    },
    {
      "cell_type": "code",
      "execution_count": 29,
      "metadata": {
        "id": "UIEW-L_gRLdc"
      },
      "outputs": [],
      "source": [
        "model.add(LSTM(units=50, return_sequences=True))\n",
        "model.add(Dropout(0.2))\n",
        "\n",
        "model.add(LSTM(units=50, return_sequences=True))\n",
        "model.add(Dropout(0.2))\n",
        "\n",
        "model.add(LSTM(units=50))\n",
        "model.add(Dropout(0.2))\n"
      ]
    },
    {
      "cell_type": "markdown",
      "metadata": {
        "id": "JOtwNToJRLdc"
      },
      "source": [
        "The number of neurons, units = 50, in every LSTM subcell is somewhat arbitrary. You should play with that parameter and find an optimal value"
      ]
    },
    {
      "cell_type": "markdown",
      "metadata": {
        "id": "v0XAgIL5RLdc"
      },
      "source": [
        "## Creating a Dense Layer\n",
        "\n",
        "To make our model more robust, we add a Dense layer at the end of the model. The number of neurons in the Dense layer will be set to 1 since we want to predict a single value in the output.\n"
      ]
    },
    {
      "cell_type": "code",
      "execution_count": 30,
      "metadata": {
        "id": "OdQk0sg6RLdc"
      },
      "outputs": [],
      "source": [
        "model.add(Dense(units = 1))"
      ]
    },
    {
      "cell_type": "code",
      "execution_count": 31,
      "metadata": {
        "colab": {
          "base_uri": "https://localhost:8080/"
        },
        "id": "oJ5fqQzYRLdc",
        "outputId": "81dc3e68-63ec-41d9-f4ef-2f5746e2f0cf"
      },
      "outputs": [
        {
          "output_type": "stream",
          "name": "stdout",
          "text": [
            "Model: \"sequential\"\n",
            "_________________________________________________________________\n",
            " Layer (type)                Output Shape              Param #   \n",
            "=================================================================\n",
            " lstm (LSTM)                 (None, 60, 50)            10400     \n",
            "                                                                 \n",
            " dropout (Dropout)           (None, 60, 50)            0         \n",
            "                                                                 \n",
            " lstm_1 (LSTM)               (None, 60, 50)            20200     \n",
            "                                                                 \n",
            " dropout_1 (Dropout)         (None, 60, 50)            0         \n",
            "                                                                 \n",
            " lstm_2 (LSTM)               (None, 60, 50)            20200     \n",
            "                                                                 \n",
            " dropout_2 (Dropout)         (None, 60, 50)            0         \n",
            "                                                                 \n",
            " lstm_3 (LSTM)               (None, 50)                20200     \n",
            "                                                                 \n",
            " dropout_3 (Dropout)         (None, 50)                0         \n",
            "                                                                 \n",
            " dense (Dense)               (None, 1)                 51        \n",
            "                                                                 \n",
            "=================================================================\n",
            "Total params: 71051 (277.54 KB)\n",
            "Trainable params: 71051 (277.54 KB)\n",
            "Non-trainable params: 0 (0.00 Byte)\n",
            "_________________________________________________________________\n"
          ]
        }
      ],
      "source": [
        "model.summary()"
      ]
    },
    {
      "cell_type": "markdown",
      "metadata": {
        "id": "DNRWX3HeRLdd"
      },
      "source": [
        "## Model Compilation\n",
        "Finally, we need to compile our LSTM model before we can train it on the training data."
      ]
    },
    {
      "cell_type": "code",
      "execution_count": 32,
      "metadata": {
        "id": "HmRLlmMTRLdd"
      },
      "outputs": [],
      "source": [
        "model.compile(optimizer = 'adam', loss = 'mean_squared_error')"
      ]
    },
    {
      "cell_type": "markdown",
      "metadata": {
        "id": "UuKbY2A4RLdd"
      },
      "source": [
        "## Model Training\n",
        "Now is the time to train the model that we defined in the previous few steps. To do so, we call the `fit` method on the model and pass it our training features and labels as shown below:\n"
      ]
    },
    {
      "cell_type": "code",
      "execution_count": 33,
      "metadata": {
        "colab": {
          "base_uri": "https://localhost:8080/"
        },
        "id": "CzGx3uzuRLdd",
        "outputId": "d078fed2-73a7-43f6-bd5d-1e35a201e667"
      },
      "outputs": [
        {
          "output_type": "stream",
          "name": "stdout",
          "text": [
            "Epoch 1/100\n",
            "51/51 [==============================] - 14s 14ms/step - loss: 0.0245\n",
            "Epoch 2/100\n",
            "51/51 [==============================] - 1s 14ms/step - loss: 0.0043\n",
            "Epoch 3/100\n",
            "51/51 [==============================] - 1s 14ms/step - loss: 0.0040\n",
            "Epoch 4/100\n",
            "51/51 [==============================] - 1s 14ms/step - loss: 0.0041\n",
            "Epoch 5/100\n",
            "51/51 [==============================] - 1s 14ms/step - loss: 0.0034\n",
            "Epoch 6/100\n",
            "51/51 [==============================] - 1s 14ms/step - loss: 0.0036\n",
            "Epoch 7/100\n",
            "51/51 [==============================] - 1s 14ms/step - loss: 0.0033\n",
            "Epoch 8/100\n",
            "51/51 [==============================] - 1s 17ms/step - loss: 0.0033\n",
            "Epoch 9/100\n",
            "51/51 [==============================] - 1s 19ms/step - loss: 0.0031\n",
            "Epoch 10/100\n",
            "51/51 [==============================] - 1s 22ms/step - loss: 0.0031\n",
            "Epoch 11/100\n",
            "51/51 [==============================] - 1s 19ms/step - loss: 0.0027\n",
            "Epoch 12/100\n",
            "51/51 [==============================] - 1s 25ms/step - loss: 0.0028\n",
            "Epoch 13/100\n",
            "51/51 [==============================] - 1s 21ms/step - loss: 0.0024\n",
            "Epoch 14/100\n",
            "51/51 [==============================] - 1s 20ms/step - loss: 0.0024\n",
            "Epoch 15/100\n",
            "51/51 [==============================] - 1s 17ms/step - loss: 0.0025\n",
            "Epoch 16/100\n",
            "51/51 [==============================] - 1s 15ms/step - loss: 0.0024\n",
            "Epoch 17/100\n",
            "51/51 [==============================] - 1s 15ms/step - loss: 0.0025\n",
            "Epoch 18/100\n",
            "51/51 [==============================] - 1s 14ms/step - loss: 0.0024\n",
            "Epoch 19/100\n",
            "51/51 [==============================] - 1s 14ms/step - loss: 0.0028\n",
            "Epoch 20/100\n",
            "51/51 [==============================] - 1s 15ms/step - loss: 0.0025\n",
            "Epoch 21/100\n",
            "51/51 [==============================] - 1s 14ms/step - loss: 0.0023\n",
            "Epoch 22/100\n",
            "51/51 [==============================] - 1s 14ms/step - loss: 0.0023\n",
            "Epoch 23/100\n",
            "51/51 [==============================] - 1s 13ms/step - loss: 0.0023\n",
            "Epoch 24/100\n",
            "51/51 [==============================] - 1s 14ms/step - loss: 0.0023\n",
            "Epoch 25/100\n",
            "51/51 [==============================] - 1s 14ms/step - loss: 0.0020\n",
            "Epoch 26/100\n",
            "51/51 [==============================] - 1s 14ms/step - loss: 0.0021\n",
            "Epoch 27/100\n",
            "51/51 [==============================] - 1s 17ms/step - loss: 0.0019\n",
            "Epoch 28/100\n",
            "51/51 [==============================] - 1s 19ms/step - loss: 0.0018\n",
            "Epoch 29/100\n",
            "51/51 [==============================] - 1s 20ms/step - loss: 0.0020\n",
            "Epoch 30/100\n",
            "51/51 [==============================] - 1s 19ms/step - loss: 0.0019\n",
            "Epoch 31/100\n",
            "51/51 [==============================] - 1s 16ms/step - loss: 0.0020\n",
            "Epoch 32/100\n",
            "51/51 [==============================] - 1s 14ms/step - loss: 0.0022\n",
            "Epoch 33/100\n",
            "51/51 [==============================] - 1s 14ms/step - loss: 0.0018\n",
            "Epoch 34/100\n",
            "51/51 [==============================] - 1s 14ms/step - loss: 0.0018\n",
            "Epoch 35/100\n",
            "51/51 [==============================] - 1s 14ms/step - loss: 0.0019\n",
            "Epoch 36/100\n",
            "51/51 [==============================] - 1s 14ms/step - loss: 0.0016\n",
            "Epoch 37/100\n",
            "51/51 [==============================] - 1s 14ms/step - loss: 0.0016\n",
            "Epoch 38/100\n",
            "51/51 [==============================] - 1s 14ms/step - loss: 0.0019\n",
            "Epoch 39/100\n",
            "51/51 [==============================] - 1s 14ms/step - loss: 0.0017\n",
            "Epoch 40/100\n",
            "51/51 [==============================] - 1s 14ms/step - loss: 0.0016\n",
            "Epoch 41/100\n",
            "51/51 [==============================] - 1s 14ms/step - loss: 0.0017\n",
            "Epoch 42/100\n",
            "51/51 [==============================] - 1s 14ms/step - loss: 0.0018\n",
            "Epoch 43/100\n",
            "51/51 [==============================] - 1s 14ms/step - loss: 0.0016\n",
            "Epoch 44/100\n",
            "51/51 [==============================] - 1s 14ms/step - loss: 0.0014\n",
            "Epoch 45/100\n",
            "51/51 [==============================] - 1s 18ms/step - loss: 0.0015\n",
            "Epoch 46/100\n",
            "51/51 [==============================] - 1s 21ms/step - loss: 0.0015\n",
            "Epoch 47/100\n",
            "51/51 [==============================] - 2s 36ms/step - loss: 0.0014\n",
            "Epoch 48/100\n",
            "51/51 [==============================] - 2s 30ms/step - loss: 0.0014\n",
            "Epoch 49/100\n",
            "51/51 [==============================] - 1s 25ms/step - loss: 0.0015\n",
            "Epoch 50/100\n",
            "51/51 [==============================] - 1s 26ms/step - loss: 0.0014\n",
            "Epoch 51/100\n",
            "51/51 [==============================] - 1s 24ms/step - loss: 0.0014\n",
            "Epoch 52/100\n",
            "51/51 [==============================] - 1s 27ms/step - loss: 0.0013\n",
            "Epoch 53/100\n",
            "51/51 [==============================] - 1s 22ms/step - loss: 0.0013\n",
            "Epoch 54/100\n",
            "51/51 [==============================] - 1s 26ms/step - loss: 0.0016\n",
            "Epoch 55/100\n",
            "51/51 [==============================] - 1s 23ms/step - loss: 0.0014\n",
            "Epoch 56/100\n",
            "51/51 [==============================] - 1s 18ms/step - loss: 0.0015\n",
            "Epoch 57/100\n",
            "51/51 [==============================] - 1s 20ms/step - loss: 0.0013\n",
            "Epoch 58/100\n",
            "51/51 [==============================] - 1s 19ms/step - loss: 0.0015\n",
            "Epoch 59/100\n",
            "51/51 [==============================] - 2s 31ms/step - loss: 0.0013\n",
            "Epoch 60/100\n",
            "51/51 [==============================] - 1s 14ms/step - loss: 0.0012\n",
            "Epoch 61/100\n",
            "51/51 [==============================] - 1s 14ms/step - loss: 0.0015\n",
            "Epoch 62/100\n",
            "51/51 [==============================] - 1s 14ms/step - loss: 0.0012\n",
            "Epoch 63/100\n",
            "51/51 [==============================] - 1s 14ms/step - loss: 0.0013\n",
            "Epoch 64/100\n",
            "51/51 [==============================] - 1s 14ms/step - loss: 0.0012\n",
            "Epoch 65/100\n",
            "51/51 [==============================] - 1s 14ms/step - loss: 0.0012\n",
            "Epoch 66/100\n",
            "51/51 [==============================] - 1s 14ms/step - loss: 0.0014\n",
            "Epoch 67/100\n",
            "51/51 [==============================] - 1s 14ms/step - loss: 0.0013\n",
            "Epoch 68/100\n",
            "51/51 [==============================] - 1s 14ms/step - loss: 0.0012\n",
            "Epoch 69/100\n",
            "51/51 [==============================] - 1s 14ms/step - loss: 0.0013\n",
            "Epoch 70/100\n",
            "51/51 [==============================] - 1s 15ms/step - loss: 0.0011\n",
            "Epoch 71/100\n",
            "51/51 [==============================] - 1s 14ms/step - loss: 0.0011\n",
            "Epoch 72/100\n",
            "51/51 [==============================] - 1s 14ms/step - loss: 0.0012\n",
            "Epoch 73/100\n",
            "51/51 [==============================] - 1s 16ms/step - loss: 0.0012\n",
            "Epoch 74/100\n",
            "51/51 [==============================] - 1s 19ms/step - loss: 0.0013\n",
            "Epoch 75/100\n",
            "51/51 [==============================] - 1s 18ms/step - loss: 0.0011\n",
            "Epoch 76/100\n",
            "51/51 [==============================] - 1s 20ms/step - loss: 0.0013\n",
            "Epoch 77/100\n",
            "51/51 [==============================] - 1s 17ms/step - loss: 0.0012\n",
            "Epoch 78/100\n",
            "51/51 [==============================] - 1s 14ms/step - loss: 0.0011\n",
            "Epoch 79/100\n",
            "51/51 [==============================] - 1s 14ms/step - loss: 0.0011\n",
            "Epoch 80/100\n",
            "51/51 [==============================] - 1s 14ms/step - loss: 0.0013\n",
            "Epoch 81/100\n",
            "51/51 [==============================] - 1s 14ms/step - loss: 0.0010\n",
            "Epoch 82/100\n",
            "51/51 [==============================] - 1s 14ms/step - loss: 0.0010\n",
            "Epoch 83/100\n",
            "51/51 [==============================] - 1s 14ms/step - loss: 0.0012\n",
            "Epoch 84/100\n",
            "51/51 [==============================] - 1s 14ms/step - loss: 0.0012\n",
            "Epoch 85/100\n",
            "51/51 [==============================] - 1s 14ms/step - loss: 0.0011\n",
            "Epoch 86/100\n",
            "51/51 [==============================] - 1s 14ms/step - loss: 0.0011\n",
            "Epoch 87/100\n",
            "51/51 [==============================] - 1s 14ms/step - loss: 0.0013\n",
            "Epoch 88/100\n",
            "51/51 [==============================] - 1s 14ms/step - loss: 0.0011\n",
            "Epoch 89/100\n",
            "51/51 [==============================] - 1s 14ms/step - loss: 0.0010\n",
            "Epoch 90/100\n",
            "51/51 [==============================] - 1s 14ms/step - loss: 0.0010\n",
            "Epoch 91/100\n",
            "51/51 [==============================] - 1s 19ms/step - loss: 9.8560e-04\n",
            "Epoch 92/100\n",
            "51/51 [==============================] - 1s 20ms/step - loss: 0.0010\n",
            "Epoch 93/100\n",
            "51/51 [==============================] - 1s 20ms/step - loss: 0.0011\n",
            "Epoch 94/100\n",
            "51/51 [==============================] - 1s 20ms/step - loss: 0.0010\n",
            "Epoch 95/100\n",
            "51/51 [==============================] - 1s 15ms/step - loss: 0.0010\n",
            "Epoch 96/100\n",
            "51/51 [==============================] - 1s 14ms/step - loss: 0.0012\n",
            "Epoch 97/100\n",
            "51/51 [==============================] - 1s 14ms/step - loss: 0.0010\n",
            "Epoch 98/100\n",
            "51/51 [==============================] - 1s 14ms/step - loss: 9.9244e-04\n",
            "Epoch 99/100\n",
            "51/51 [==============================] - 1s 14ms/step - loss: 0.0010\n",
            "Epoch 100/100\n",
            "51/51 [==============================] - 1s 14ms/step - loss: 0.0010\n"
          ]
        }
      ],
      "source": [
        "history = model.fit(features_set, labels, epochs = 100, batch_size = 32)"
      ]
    },
    {
      "cell_type": "code",
      "execution_count": 34,
      "metadata": {
        "colab": {
          "base_uri": "https://localhost:8080/"
        },
        "id": "jSpQwYd0RLdd",
        "outputId": "9d4db8f5-9340-4a57-f420-d62d3b791f3c"
      },
      "outputs": [
        {
          "output_type": "stream",
          "name": "stderr",
          "text": [
            "/usr/local/lib/python3.10/dist-packages/keras/src/engine/training.py:3079: UserWarning: You are saving your model as an HDF5 file via `model.save()`. This file format is considered legacy. We recommend using instead the native Keras format, e.g. `model.save('my_model.keras')`.\n",
            "  saving_api.save_model(\n"
          ]
        },
        {
          "output_type": "execute_result",
          "data": {
            "text/plain": [
              "dict_keys(['loss'])"
            ]
          },
          "metadata": {},
          "execution_count": 34
        }
      ],
      "source": [
        "from tensorflow.keras.models import load_model\n",
        "model.save('microsoft_prob1.h5')\n",
        "#model = load_model('apple.h5')\n",
        "history_dict = history.history\n",
        "history_dict.keys()"
      ]
    },
    {
      "cell_type": "markdown",
      "metadata": {
        "id": "0i49s-GCRLdd"
      },
      "source": [
        "From the above, we see that our model history contains information only on the training loss. Had we had validation data passed to the training process we would have had validation loss and perhaps accuracy available as well."
      ]
    },
    {
      "cell_type": "code",
      "execution_count": 35,
      "metadata": {
        "colab": {
          "base_uri": "https://localhost:8080/",
          "height": 472
        },
        "id": "oQY9ze8jRLdd",
        "outputId": "2bc5012a-f45a-4c5a-f356-0064d448ea26"
      },
      "outputs": [
        {
          "output_type": "display_data",
          "data": {
            "text/plain": [
              "<Figure size 640x480 with 1 Axes>"
            ],
            "image/png": "[encoded data removed]"
          },
          "metadata": {}
        }
      ],
      "source": [
        "import matplotlib.pyplot as plt\n",
        "\n",
        "loss = history.history['loss']\n",
        "\n",
        "epochs = range(1, len(loss) + 1)\n",
        "\n",
        "# \"bo\" is for \"blue dot\"\n",
        "plt.plot(epochs, loss, 'bo', label='Training loss')\n",
        "\n",
        "plt.title('Training loss')\n",
        "plt.xlabel('Epochs')\n",
        "plt.ylabel('Loss')\n",
        "plt.legend()\n",
        "\n",
        "plt.show()\n"
      ]
    },
    {
      "cell_type": "markdown",
      "metadata": {
        "id": "1iR-yYtqRLdd"
      },
      "source": [
        "## Testing our LSTM\n",
        "We have successfully trained our LSTM, now we will test the performance of our network on the test set containing the opening stock prices for the month of September and a part of October 2023.\n",
        "\n",
        "As we did with the training data, we need to convert our test data to the right format. We first import our test data. The test data contain only prices for 34 days and has no overlap with the training data.\n",
        "\n",
        "Execute the following:\n"
      ]
    },
    {
      "cell_type": "code",
      "execution_count": 36,
      "metadata": {
        "colab": {
          "base_uri": "https://localhost:8080/"
        },
        "id": "v2UYmxy0RLdd",
        "outputId": "232d94e4-ea1d-4d64-e597-5f9e6a2c7a32"
      },
      "outputs": [
        {
          "output_type": "stream",
          "name": "stdout",
          "text": [
            "Number of data points in test data:  40\n"
          ]
        }
      ],
      "source": [
        "microsoft_testing_complete = pd.read_csv(r'/content/gdrive/MyDrive/ColabNotebooks/Stocks/MSFT_test.csv')\n",
        "microsoft_testing_processed = microsoft_testing_complete.iloc[:, 1:2].values\n",
        "microsoft_testing_processed\n",
        "print(\"Number of data points in test data: \", microsoft_testing_processed.size)"
      ]
    },
    {
      "cell_type": "markdown",
      "metadata": {
        "id": "Ed-M0_njRLde"
      },
      "source": [
        "## Converting Test Data to Right Format\n",
        "\n",
        "For each day in the test set, we want our feature set to contain the opening stock prices for the previous 60 days, what is almost 3 months. To do so, we need to concatenate our training data and test data before preprocessing. Execute the following:\n"
      ]
    },
    {
      "cell_type": "code",
      "execution_count": 37,
      "metadata": {
        "id": "Z8TCbfrmRLde"
      },
      "outputs": [],
      "source": [
        "microsoft_total = pd.concat((microsoft_training_complete['Open'], microsoft_testing_complete['Open']), axis=0)"
      ]
    },
    {
      "cell_type": "markdown",
      "metadata": {
        "id": "vuJ5bSX1RLde"
      },
      "source": [
        "Now let's prepare our test inputs. The input for each day should contain the opening stock prices for the previous 60 days. That means we need opening stock prices for the 34 test days and stock prices from the last 60 days from the training set. Execute the following code to fetch those 94 values."
      ]
    },
    {
      "cell_type": "code",
      "execution_count": 38,
      "metadata": {
        "id": "5vsMiBexRLde"
      },
      "outputs": [],
      "source": [
        "test_inputs = microsoft_total[len(microsoft_total) - len(microsoft_testing_complete) - 60:].values"
      ]
    },
    {
      "cell_type": "code",
      "execution_count": 39,
      "metadata": {
        "colab": {
          "base_uri": "https://localhost:8080/"
        },
        "id": "6ukdhxpnRLde",
        "outputId": "37896ebf-30ca-4952-d996-b6a3d49d6016"
      },
      "outputs": [
        {
          "output_type": "stream",
          "name": "stdout",
          "text": [
            "(100,)\n",
            "100\n",
            "[331.649994 323.940002 324.98999  328.579987 334.470001 334.339996\n",
            " 337.480011 351.320007 339.309998 336.369995 334.119995 334.359985\n",
            " 333.720001 331.859985 334.660004 334.709991 337.75     339.190002\n",
            " 335.089996 337.299988 339.320007 334.600006 331.059998 336.600006\n",
            " 339.559998 347.589996 345.679993 345.829987 361.75     353.570007\n",
            " 349.149994 345.850006 347.109985 341.440002 340.480011 333.670013\n",
            " 336.920013 335.190002 333.630005 326.       331.880005 328.369995\n",
            " 326.959991 326.470001 326.019989 320.26001  321.390015 323.\n",
            " 320.799988 320.540009 314.48999  317.929993 325.5      323.820007\n",
            " 332.850006 321.470001 325.660004 321.880005 328.670013 329.200012\n",
            " 331.309998 329.       333.380005 331.290009 330.089996 337.23999\n",
            " 335.820007 331.309998 339.149994 336.920013 327.799988 326.170013\n",
            " 329.51001  319.26001  321.320007 316.589996 315.130005 312.299988\n",
            " 310.98999  317.75     316.279999 320.829987 314.029999 319.089996\n",
            " 316.549988 324.75     330.959991 331.209991 330.570007 332.380005\n",
            " 331.049988 329.589996 332.48999  332.149994 331.720001 325.470001\n",
            " 331.299988 345.019989 340.540009 330.429993]\n"
          ]
        }
      ],
      "source": [
        "print(test_inputs.shape)\n",
        "print(len(test_inputs))\n",
        "print(test_inputs)"
      ]
    },
    {
      "cell_type": "markdown",
      "metadata": {
        "id": "sV994WJmRLde"
      },
      "source": [
        "As we did for the training set, we need to scale our test data. We will use already defined `scalar` object. Execute the following:"
      ]
    },
    {
      "cell_type": "code",
      "execution_count": 40,
      "metadata": {
        "colab": {
          "base_uri": "https://localhost:8080/"
        },
        "id": "PBnOyWugRLde",
        "outputId": "1341e2df-dc9a-4158-cb92-2640f7424418"
      },
      "outputs": [
        {
          "output_type": "stream",
          "name": "stdout",
          "text": [
            "(100, 1)\n",
            "[[0.89951928]\n",
            " [0.87378155]\n",
            " [0.87728665]\n",
            " [0.88927089]\n",
            " [0.90893311]\n",
            " [0.90849912]\n",
            " [0.91898121]\n",
            " [0.96518229]\n",
            " [0.92509013]\n",
            " [0.91527572]\n",
            " [0.90776471]\n",
            " [0.90856585]\n",
            " [0.90642943]\n",
            " [0.90022027]\n",
            " [0.90956738]\n",
            " [0.90973425]\n",
            " [0.91988249]\n",
            " [0.92468955]\n",
            " [0.91100279]\n",
            " [0.91838025]\n",
            " [0.92512354]\n",
            " [0.90936709]\n",
            " [0.89754973]\n",
            " [0.91604355]\n",
            " [0.92592468]\n",
            " [0.95273066]\n",
            " [0.94635463]\n",
            " [0.94685534]\n",
            " [1.        ]\n",
            " [0.97269331]\n",
            " [0.95793829]\n",
            " [0.94692217]\n",
            " [0.95112827]\n",
            " [0.93220057]\n",
            " [0.9289959 ]\n",
            " [0.90626256]\n",
            " [0.91711181]\n",
            " [0.91133663]\n",
            " [0.90612901]\n",
            " [0.8806583 ]\n",
            " [0.9002871 ]\n",
            " [0.88856989]\n",
            " [0.88386297]\n",
            " [0.88222727]\n",
            " [0.88072503]\n",
            " [0.8614969 ]\n",
            " [0.86526911]\n",
            " [0.87064361]\n",
            " [0.86329947]\n",
            " [0.8624316 ]\n",
            " [0.84223525]\n",
            " [0.85371876]\n",
            " [0.87898918]\n",
            " [0.87338098]\n",
            " [0.90352519]\n",
            " [0.86553612]\n",
            " [0.87952331]\n",
            " [0.86690481]\n",
            " [0.88957142]\n",
            " [0.89134067]\n",
            " [0.89838429]\n",
            " [0.89067299]\n",
            " [0.90529445]\n",
            " [0.89831756]\n",
            " [0.89431164]\n",
            " [0.91817996]\n",
            " [0.91343974]\n",
            " [0.89838429]\n",
            " [0.924556  ]\n",
            " [0.91711181]\n",
            " [0.88666707]\n",
            " [0.88122584]\n",
            " [0.89237552]\n",
            " [0.85815867]\n",
            " [0.86503541]\n",
            " [0.84924555]\n",
            " [0.84437176]\n",
            " [0.83492452]\n",
            " [0.83055144]\n",
            " [0.85311791]\n",
            " [0.84821071]\n",
            " [0.86339961]\n",
            " [0.84069969]\n",
            " [0.85759112]\n",
            " [0.84911199]\n",
            " [0.87648551]\n",
            " [0.89721589]\n",
            " [0.89805044]\n",
            " [0.89591403]\n",
            " [0.90195622]\n",
            " [0.89751632]\n",
            " [0.89264253]\n",
            " [0.90232337]\n",
            " [0.90118839]\n",
            " [0.89975297]\n",
            " [0.87888904]\n",
            " [0.89835087]\n",
            " [0.94415139]\n",
            " [0.92919618]\n",
            " [0.89544663]]\n"
          ]
        }
      ],
      "source": [
        "test_inputs = test_inputs.reshape(-1,1)\n",
        "print(test_inputs.shape)\n",
        "test_inputs = scaler.transform(test_inputs)\n",
        "print(test_inputs)"
      ]
    },
    {
      "cell_type": "markdown",
      "metadata": {
        "id": "Wy5DmXSiRLde"
      },
      "source": [
        "We scaled our data, now let's prepare our final test input set that will contain previous 60 stock prices from the training_set. Execute the following:"
      ]
    },
    {
      "cell_type": "code",
      "execution_count": 46,
      "metadata": {
        "id": "Wcvu8wOhRLde"
      },
      "outputs": [],
      "source": [
        "test_features = []\n",
        "for i in range(60, 100):\n",
        "    test_features.append(test_inputs[i-60:i, 0])\n"
      ]
    },
    {
      "cell_type": "markdown",
      "metadata": {
        "id": "eANwk8PIRLdf"
      },
      "source": [
        "Finally, we need to convert our data into the three-dimensional format which can be used as input to the LSTM. Execute the following code"
      ]
    },
    {
      "cell_type": "code",
      "execution_count": 47,
      "metadata": {
        "colab": {
          "base_uri": "https://localhost:8080/"
        },
        "id": "KX9KfkzxRLdf",
        "outputId": "39369047-3803-44eb-b927-3e72a73caf32"
      },
      "outputs": [
        {
          "output_type": "stream",
          "name": "stdout",
          "text": [
            "(40, 60, 1)\n"
          ]
        }
      ],
      "source": [
        "test_features = np.array(test_features)\n",
        "test_features = np.reshape(test_features, (test_features.shape[0], test_features.shape[1], 1))\n",
        "print(test_features.shape)"
      ]
    },
    {
      "cell_type": "markdown",
      "metadata": {
        "id": "HFmhVk_CRLdf"
      },
      "source": [
        "## Making Predictions\n",
        "We preprocessed our test data and now we can use it to make predictions. To do so, we simply need to call the `predict()` method on the model that we trained. Execute the following\n"
      ]
    },
    {
      "cell_type": "code",
      "execution_count": 48,
      "metadata": {
        "colab": {
          "base_uri": "https://localhost:8080/"
        },
        "id": "aQbwqNI9RLdf",
        "outputId": "730ac73b-17d4-481c-8f34-50d848f3ded2"
      },
      "outputs": [
        {
          "output_type": "stream",
          "name": "stdout",
          "text": [
            "2/2 [==============================] - 0s 9ms/step\n"
          ]
        }
      ],
      "source": [
        "predictions = model.predict(test_features)"
      ]
    },
    {
      "cell_type": "markdown",
      "metadata": {
        "id": "GL7I8CiJRLdf"
      },
      "source": [
        "Since we scaled our data, the predictions made by the LSTM are also scaled. We need to reverse the scaled prediction back to their actual values. To do so, we use the `ìnverse_transform` method of the `scaler` object we created during training. This is accomplished with the following:"
      ]
    },
    {
      "cell_type": "code",
      "execution_count": 49,
      "metadata": {
        "id": "LIynqehTRLdf"
      },
      "outputs": [],
      "source": [
        "predictions = scaler.inverse_transform(predictions)"
      ]
    },
    {
      "cell_type": "markdown",
      "metadata": {
        "id": "j7ohtwFnRLdf"
      },
      "source": [
        "Finally, let's see how well did our algorithm predicted the future stock prices. On the same diagram we will present original Open prices in the test data (blue) and predictions in red."
      ]
    },
    {
      "cell_type": "code",
      "execution_count": 50,
      "metadata": {
        "colab": {
          "base_uri": "https://localhost:8080/",
          "height": 564
        },
        "id": "kClAHOe4RLdf",
        "outputId": "774fa3ed-125a-48e6-c0a5-2279eb35e1ee"
      },
      "outputs": [
        {
          "output_type": "display_data",
          "data": {
            "text/plain": [
              "<Figure size 1000x600 with 1 Axes>"
            ],
            "image/png": "[encoded data removed]"
          },
          "metadata": {}
        }
      ],
      "source": [
        "plt.figure(figsize=(10,6))\n",
        "plt.plot(microsoft_testing_processed, color='blue', label='Actual Apple Stock Price')\n",
        "plt.plot(predictions , color='red', label='Predicted Apple Stock Price')\n",
        "plt.title('microsoftStock Price Prediction')\n",
        "plt.xlabel('Date')\n",
        "plt.ylabel('microsoft Stock Price')\n",
        "plt.legend()\n",
        "plt.show()\n"
      ]
    }
  ],
  "metadata": {
    "kernelspec": {
      "display_name": "Python 3",
      "name": "python3"
    },
    "language_info": {
      "codemirror_mode": {
        "name": "ipython",
        "version": 3
      },
      "file_extension": ".py",
      "mimetype": "text/x-python",
      "name": "python",
      "nbconvert_exporter": "python",
      "pygments_lexer": "ipython3",
      "version": "3.11.5"
    },
    "colab": {
      "provenance": [],
      "gpuType": "V100"
    },
    "accelerator": "GPU"
  },
  "nbformat": 4,
  "nbformat_minor": 0
}