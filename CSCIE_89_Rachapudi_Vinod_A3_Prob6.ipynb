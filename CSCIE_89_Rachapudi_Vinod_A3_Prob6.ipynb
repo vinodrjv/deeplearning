{
  "cells": [
    {
      "cell_type": "code",
      "execution_count": 46,
      "metadata": {
        "id": "r5xi86SDNGTV"
      },
      "outputs": [],
      "source": [
        "import tensorflow as tf\n",
        "from tensorflow import keras"
      ]
    },
    {
      "cell_type": "markdown",
      "metadata": {
        "id": "2ZJs9snMNGTW"
      },
      "source": [
        "# Classifying newswires: a multi-class classification example\n",
        "\n",
        "This notebook contains the code samples found in Chapter 3, Section 5 of [Deep Learning with Python](https://www.manning.com/books/deep-learning-with-python?a_aid=keras&a_bid=76564dff). Note that the original text features far more content, in particular further explanations and figures: in this notebook, you will only find source code and related comments.\n",
        "\n",
        "----\n",
        "\n",
        "In the previous section we saw how to classify vector inputs into two mutually exclusive classes using a densely-connected neural network.\n",
        "But what happens when you have more than two classes?\n",
        "\n",
        "In this section, we will build a network to classify Reuters newswires into 46 different mutually-exclusive topics. Since we have many\n",
        "classes, this problem is an instance of \"multi-class classification\", and since each data point should be classified into only one\n",
        "category, the problem is more specifically an instance of \"single-label, multi-class classification\". If each data point could have\n",
        "belonged to multiple categories (in our case, topics) then we would be facing a \"multi-label, multi-class classification\" problem."
      ]
    },
    {
      "cell_type": "markdown",
      "metadata": {
        "id": "XpMVVJQXNGTY"
      },
      "source": [
        "## The Reuters dataset\n",
        "\n",
        "\n",
        "We will be working with the _Reuters dataset_, a set of short newswires and their topics, published by Reuters in 1986. It's a very simple,\n",
        "widely used toy dataset for text classification. There are 46 different topics; some topics are more represented than others, but each\n",
        "topic has at least 10 examples in the training set.\n",
        "\n",
        "Like IMDB and MNIST, the Reuters dataset comes packaged as part of Keras. Let's take a look right away:"
      ]
    },
    {
      "cell_type": "code",
      "execution_count": 47,
      "metadata": {
        "id": "w8OYv0r6NGTY"
      },
      "outputs": [],
      "source": [
        "from tensorflow.keras.datasets import reuters\n",
        "\n",
        "(train_data, train_labels), (test_data, test_labels) = reuters.load_data(num_words=10000)"
      ]
    },
    {
      "cell_type": "markdown",
      "metadata": {
        "id": "LA_HsLM5NGTY"
      },
      "source": [
        "\n",
        "Like with the IMDB dataset, the argument `num_words=10000` restricts the data to the 10,000 most frequently occurring words found in the\n",
        "data.\n",
        "\n",
        "We have 8,982 training examples and 2,246 test examples:"
      ]
    },
    {
      "cell_type": "code",
      "execution_count": 48,
      "metadata": {
        "colab": {
          "base_uri": "https://localhost:8080/"
        },
        "id": "LgBQTES1NGTZ",
        "outputId": "c2bc35ee-8a4b-4e32-8bed-ddd06dceada2"
      },
      "outputs": [
        {
          "output_type": "execute_result",
          "data": {
            "text/plain": [
              "8982"
            ]
          },
          "metadata": {},
          "execution_count": 48
        }
      ],
      "source": [
        "len(train_data)"
      ]
    },
    {
      "cell_type": "code",
      "execution_count": 49,
      "metadata": {
        "colab": {
          "base_uri": "https://localhost:8080/"
        },
        "id": "fMvd3iNSNGTZ",
        "outputId": "27935ba2-25f5-4e9c-8742-e028f938f17b"
      },
      "outputs": [
        {
          "output_type": "execute_result",
          "data": {
            "text/plain": [
              "2246"
            ]
          },
          "metadata": {},
          "execution_count": 49
        }
      ],
      "source": [
        "len(test_data)"
      ]
    },
    {
      "cell_type": "markdown",
      "metadata": {
        "id": "3LZQCluLNGTZ"
      },
      "source": [
        "As with the IMDB reviews, each example is a list of integers (word indices):"
      ]
    },
    {
      "cell_type": "code",
      "execution_count": 50,
      "metadata": {
        "colab": {
          "base_uri": "https://localhost:8080/"
        },
        "id": "p_nXpFR1NGTZ",
        "outputId": "00909b37-de61-4bfb-83c2-671609a8563c"
      },
      "outputs": [
        {
          "output_type": "execute_result",
          "data": {
            "text/plain": [
              "[1,\n",
              " 245,\n",
              " 273,\n",
              " 207,\n",
              " 156,\n",
              " 53,\n",
              " 74,\n",
              " 160,\n",
              " 26,\n",
              " 14,\n",
              " 46,\n",
              " 296,\n",
              " 26,\n",
              " 39,\n",
              " 74,\n",
              " 2979,\n",
              " 3554,\n",
              " 14,\n",
              " 46,\n",
              " 4689,\n",
              " 4329,\n",
              " 86,\n",
              " 61,\n",
              " 3499,\n",
              " 4795,\n",
              " 14,\n",
              " 61,\n",
              " 451,\n",
              " 4329,\n",
              " 17,\n",
              " 12]"
            ]
          },
          "metadata": {},
          "execution_count": 50
        }
      ],
      "source": [
        "train_data[10]"
      ]
    },
    {
      "cell_type": "markdown",
      "metadata": {
        "id": "sMNjLjwQNGTZ"
      },
      "source": [
        "Here's how you can decode it back to words, in case you are curious:"
      ]
    },
    {
      "cell_type": "code",
      "execution_count": 51,
      "metadata": {
        "id": "5oLofvhDNGTa"
      },
      "outputs": [],
      "source": [
        "word_index = reuters.get_word_index()\n",
        "reverse_word_index = dict([(value, key) for (key, value) in word_index.items()])\n",
        "# Note that our indices were offset by 3\n",
        "# because 0, 1 and 2 are reserved indices for \"padding\", \"start of sequence\", and \"unknown\".\n",
        "decoded_newswire = ' '.join([reverse_word_index.get(i - 3, '?') for i in train_data[0]])"
      ]
    },
    {
      "cell_type": "code",
      "execution_count": 52,
      "metadata": {
        "colab": {
          "base_uri": "https://localhost:8080/",
          "height": 53
        },
        "id": "Eng3PJcnNGTa",
        "outputId": "4f3b44f7-c929-4052-bd01-6252a74e9ca3"
      },
      "outputs": [
        {
          "output_type": "execute_result",
          "data": {
            "text/plain": [
              "'? ? ? said as a result of its december acquisition of space co it expects earnings per share in 1987 of 1 15 to 1 30 dlrs per share up from 70 cts in 1986 the company said pretax net should rise to nine to 10 mln dlrs from six mln dlrs in 1986 and rental operation revenues to 19 to 22 mln dlrs from 12 5 mln dlrs it said cash flow per share this year should be 2 50 to three dlrs reuter 3'"
            ],
            "application/vnd.google.colaboratory.intrinsic+json": {
              "type": "string"
            }
          },
          "metadata": {},
          "execution_count": 52
        }
      ],
      "source": [
        "decoded_newswire"
      ]
    },
    {
      "cell_type": "markdown",
      "metadata": {
        "id": "HGxkIdM1NGTa"
      },
      "source": [
        "The label associated with an example is an integer between 0 and 45: a topic index."
      ]
    },
    {
      "cell_type": "code",
      "execution_count": 53,
      "metadata": {
        "colab": {
          "base_uri": "https://localhost:8080/"
        },
        "id": "zRonPBuVNGTa",
        "outputId": "dd0b3ff7-04bb-4a75-d2fe-3082e5c43162"
      },
      "outputs": [
        {
          "output_type": "execute_result",
          "data": {
            "text/plain": [
              "3"
            ]
          },
          "metadata": {},
          "execution_count": 53
        }
      ],
      "source": [
        "train_labels[10]"
      ]
    },
    {
      "cell_type": "markdown",
      "metadata": {
        "id": "U13X1OvQNGTa"
      },
      "source": [
        "## Preparing the data\n",
        "\n",
        "We can vectorize the data with the exact same code as in our previous example:"
      ]
    },
    {
      "cell_type": "code",
      "execution_count": 54,
      "metadata": {
        "id": "p2nNn4zNNGTa"
      },
      "outputs": [],
      "source": [
        "import numpy as np\n",
        "\n",
        "def vectorize_sequences(sequences, dimension=10000):\n",
        "    results = np.zeros((len(sequences), dimension))\n",
        "    for i, sequence in enumerate(sequences):\n",
        "        results[i, sequence] = 1.\n",
        "    return results\n",
        "\n",
        "# Our vectorized training data\n",
        "x_train = vectorize_sequences(train_data)\n",
        "# Our vectorized test data\n",
        "x_test = vectorize_sequences(test_data)"
      ]
    },
    {
      "cell_type": "markdown",
      "metadata": {
        "id": "U90lHBjFNGTa"
      },
      "source": [
        "\n",
        "To vectorize the labels, there are two possibilities: we could just cast the label list as an integer tensor, or we could use a \"one-hot\"\n",
        "encoding. One-hot encoding is a widely used format for categorical data, also called \"categorical encoding\".\n",
        "For a more detailed explanation of one-hot encoding, you can refer to Chapter 6, Section 1.\n",
        "In our case, one-hot encoding of our labels consists in embedding each label as an all-zero vector with a 1 in the place of the label index, e.g.:"
      ]
    },
    {
      "cell_type": "code",
      "execution_count": 55,
      "metadata": {
        "id": "SdDCDI1RNGTb"
      },
      "outputs": [],
      "source": [
        "def to_one_hot(labels, dimension=46):\n",
        "    results = np.zeros((len(labels), dimension))\n",
        "    for i, label in enumerate(labels):\n",
        "        results[i, label] = 1.\n",
        "    return results\n",
        "\n",
        "# Our vectorized training labels\n",
        "one_hot_train_labels = to_one_hot(train_labels)\n",
        "# Our vectorized test labels\n",
        "one_hot_test_labels = to_one_hot(test_labels)"
      ]
    },
    {
      "cell_type": "markdown",
      "metadata": {
        "id": "mTsXuKeSNGTb"
      },
      "source": [
        "Note that there is a built-in way to do this in Keras, which you have already seen in action in our MNIST example:"
      ]
    },
    {
      "cell_type": "code",
      "execution_count": 56,
      "metadata": {
        "id": "vbInw3o4NGTb"
      },
      "outputs": [],
      "source": [
        "from tensorflow.keras.utils import to_categorical\n",
        "\n",
        "one_hot_train_labels = to_categorical(train_labels)\n",
        "one_hot_test_labels = to_categorical(test_labels)"
      ]
    },
    {
      "cell_type": "markdown",
      "metadata": {
        "id": "OU1j7Wz2NGTb"
      },
      "source": [
        "## Building our network\n",
        "\n",
        "\n",
        "This topic classification problem looks very similar to our previous movie review classification problem: in both cases, we are trying to\n",
        "classify short snippets of text. There is however a new constraint here: the number of output classes has gone from 2 to 46, i.e. the\n",
        "dimensionality of the output space is much larger.\n",
        "\n",
        "In a stack of `Dense` layers like what we were using, each layer can only access information present in the output of the previous layer.\n",
        "If one layer drops some information relevant to the classification problem, this information can never be recovered by later layers: each\n",
        "layer can potentially become an \"information bottleneck\". In our previous example, we were using 16-dimensional intermediate layers, but a\n",
        "16-dimensional space may be too limited to learn to separate 46 different classes: such small layers may act as information bottlenecks,\n",
        "permanently dropping relevant information.\n",
        "\n",
        "For this reason we will use larger layers. Let's go with 64 units:"
      ]
    },
    {
      "cell_type": "code",
      "execution_count": 57,
      "metadata": {
        "id": "gONRSZb6NGTb"
      },
      "outputs": [],
      "source": [
        "from tensorflow.keras import models\n",
        "from tensorflow.keras import layers\n",
        "\n",
        "model = models.Sequential()\n",
        "model.add(layers.Dense(64, activation='relu', input_shape=(10000,)))\n",
        "model.add(layers.Dense(64, activation='relu'))\n",
        "model.add(layers.Dense(46, activation='softmax'))"
      ]
    },
    {
      "cell_type": "markdown",
      "metadata": {
        "id": "EId4hoIWNGTb"
      },
      "source": [
        "\n",
        "There are two other things you should note about this architecture:\n",
        "\n",
        "* We are ending the network with a `Dense` layer of size 46. This means that for each input sample, our network will output a\n",
        "46-dimensional vector. Each entry in this vector (each dimension) will encode a different output class.\n",
        "* The last layer uses a `softmax` activation. You have already seen this pattern in the MNIST example. It means that the network will\n",
        "output a _probability distribution_ over the 46 different output classes, i.e. for every input sample, the network will produce a\n",
        "46-dimensional output vector where `output[i]` is the probability that the sample belongs to class `i`. The 46 scores will sum to 1.\n",
        "\n",
        "The best loss function to use in this case is `categorical_crossentropy`. It measures the distance between two probability distributions:\n",
        "in our case, between the probability distribution output by our network, and the true distribution of the labels. By minimizing the\n",
        "distance between these two distributions, we train our network to output something as close as possible to the true labels."
      ]
    },
    {
      "cell_type": "code",
      "execution_count": 58,
      "metadata": {
        "id": "2X2rozwUNGTb"
      },
      "outputs": [],
      "source": [
        "model.compile(optimizer='rmsprop',\n",
        "              loss='categorical_crossentropy',\n",
        "              metrics=['accuracy'])"
      ]
    },
    {
      "cell_type": "markdown",
      "metadata": {
        "id": "7uCcFFG1NGTb"
      },
      "source": [
        "## Validating our approach\n",
        "\n",
        "Let's set apart 1,000 samples in our training data to use as a validation set:"
      ]
    },
    {
      "cell_type": "code",
      "execution_count": 59,
      "metadata": {
        "id": "jykyU1-WNGTc"
      },
      "outputs": [],
      "source": [
        "x_val = x_train[:1000]\n",
        "partial_x_train = x_train[1000:]\n",
        "\n",
        "y_val = one_hot_train_labels[:1000]\n",
        "partial_y_train = one_hot_train_labels[1000:]"
      ]
    },
    {
      "cell_type": "markdown",
      "metadata": {
        "id": "L9Nf9eliNGTc"
      },
      "source": [
        "Now let's train our network for 20 epochs:"
      ]
    },
    {
      "cell_type": "code",
      "execution_count": 60,
      "metadata": {
        "colab": {
          "base_uri": "https://localhost:8080/"
        },
        "id": "mNiQ48GeNGTc",
        "outputId": "2b9fdb91-1f35-48d6-d3d7-cfe00f58a357"
      },
      "outputs": [
        {
          "output_type": "stream",
          "name": "stdout",
          "text": [
            "Epoch 1/20\n",
            "16/16 [==============================] - 3s 77ms/step - loss: 2.7597 - accuracy: 0.4350 - val_loss: 1.8647 - val_accuracy: 0.6050\n",
            "Epoch 2/20\n",
            "16/16 [==============================] - 1s 45ms/step - loss: 1.5756 - accuracy: 0.6756 - val_loss: 1.4059 - val_accuracy: 0.6760\n",
            "Epoch 3/20\n",
            "16/16 [==============================] - 1s 46ms/step - loss: 1.2048 - accuracy: 0.7400 - val_loss: 1.1890 - val_accuracy: 0.7440\n",
            "Epoch 4/20\n",
            "16/16 [==============================] - 1s 45ms/step - loss: 0.9815 - accuracy: 0.7883 - val_loss: 1.0809 - val_accuracy: 0.7580\n",
            "Epoch 5/20\n",
            "16/16 [==============================] - 1s 44ms/step - loss: 0.8152 - accuracy: 0.8237 - val_loss: 1.0170 - val_accuracy: 0.7870\n",
            "Epoch 6/20\n",
            "16/16 [==============================] - 1s 48ms/step - loss: 0.6781 - accuracy: 0.8524 - val_loss: 0.9702 - val_accuracy: 0.7840\n",
            "Epoch 7/20\n",
            "16/16 [==============================] - 1s 43ms/step - loss: 0.5708 - accuracy: 0.8767 - val_loss: 0.9536 - val_accuracy: 0.7950\n",
            "Epoch 8/20\n",
            "16/16 [==============================] - 1s 47ms/step - loss: 0.4776 - accuracy: 0.8991 - val_loss: 0.9349 - val_accuracy: 0.7910\n",
            "Epoch 9/20\n",
            "16/16 [==============================] - 1s 45ms/step - loss: 0.4043 - accuracy: 0.9144 - val_loss: 0.8987 - val_accuracy: 0.8060\n",
            "Epoch 10/20\n",
            "16/16 [==============================] - 1s 45ms/step - loss: 0.3452 - accuracy: 0.9268 - val_loss: 0.8590 - val_accuracy: 0.8210\n",
            "Epoch 11/20\n",
            "16/16 [==============================] - 1s 45ms/step - loss: 0.2932 - accuracy: 0.9331 - val_loss: 0.8847 - val_accuracy: 0.8130\n",
            "Epoch 12/20\n",
            "16/16 [==============================] - 1s 46ms/step - loss: 0.2593 - accuracy: 0.9420 - val_loss: 0.8877 - val_accuracy: 0.8240\n",
            "Epoch 13/20\n",
            "16/16 [==============================] - 1s 50ms/step - loss: 0.2320 - accuracy: 0.9465 - val_loss: 0.8809 - val_accuracy: 0.8100\n",
            "Epoch 14/20\n",
            "16/16 [==============================] - 1s 57ms/step - loss: 0.2069 - accuracy: 0.9485 - val_loss: 0.8844 - val_accuracy: 0.8120\n",
            "Epoch 15/20\n",
            "16/16 [==============================] - 1s 82ms/step - loss: 0.1824 - accuracy: 0.9519 - val_loss: 0.9172 - val_accuracy: 0.8090\n",
            "Epoch 16/20\n",
            "16/16 [==============================] - 1s 74ms/step - loss: 0.1709 - accuracy: 0.9543 - val_loss: 0.9382 - val_accuracy: 0.8080\n",
            "Epoch 17/20\n",
            "16/16 [==============================] - 1s 45ms/step - loss: 0.1585 - accuracy: 0.9545 - val_loss: 0.8995 - val_accuracy: 0.8100\n",
            "Epoch 18/20\n",
            "16/16 [==============================] - 1s 48ms/step - loss: 0.1541 - accuracy: 0.9554 - val_loss: 0.9408 - val_accuracy: 0.8130\n",
            "Epoch 19/20\n",
            "16/16 [==============================] - 1s 45ms/step - loss: 0.1427 - accuracy: 0.9563 - val_loss: 0.9569 - val_accuracy: 0.8030\n",
            "Epoch 20/20\n",
            "16/16 [==============================] - 1s 44ms/step - loss: 0.1351 - accuracy: 0.9563 - val_loss: 0.9904 - val_accuracy: 0.7970\n"
          ]
        }
      ],
      "source": [
        "history = model.fit(partial_x_train,\n",
        "                    partial_y_train,\n",
        "                    epochs=20,\n",
        "                    batch_size=512,\n",
        "                    validation_data=(x_val, y_val))"
      ]
    },
    {
      "cell_type": "markdown",
      "metadata": {
        "id": "y6nbpBvpNGTc"
      },
      "source": [
        "Let's display its loss and accuracy curves:"
      ]
    },
    {
      "cell_type": "code",
      "execution_count": 61,
      "metadata": {
        "colab": {
          "base_uri": "https://localhost:8080/",
          "height": 472
        },
        "id": "hg20by3NNGTc",
        "outputId": "1601cf5d-a6d7-4872-f2d8-5f17f3d7ed46"
      },
      "outputs": [
        {
          "output_type": "display_data",
          "data": {
            "text/plain": [
              "<Figure size 640x480 with 1 Axes>"
            ],
            "image/png": "[encoded data removed]"
          },
          "metadata": {}
        }
      ],
      "source": [
        "import matplotlib.pyplot as plt\n",
        "\n",
        "loss = history.history['loss']\n",
        "val_loss = history.history['val_loss']\n",
        "val_loss_orig = val_loss\n",
        "\n",
        "epochs = range(1, len(loss) + 1)\n",
        "\n",
        "plt.plot(epochs, loss, 'bo', label='Training loss')\n",
        "plt.plot(epochs, val_loss, 'b', label='Validation loss')\n",
        "plt.title('Training and validation loss')\n",
        "plt.xlabel('Epochs')\n",
        "plt.ylabel('Loss')\n",
        "plt.legend()\n",
        "\n",
        "plt.show()"
      ]
    },
    {
      "cell_type": "code",
      "execution_count": 62,
      "metadata": {
        "colab": {
          "base_uri": "https://localhost:8080/"
        },
        "id": "0MFiRKQsNGTc",
        "outputId": "8644614c-89b7-4dd0-f104-e1011e20a96f"
      },
      "outputs": [
        {
          "output_type": "execute_result",
          "data": {
            "text/plain": [
              "dict_keys(['loss', 'accuracy', 'val_loss', 'val_accuracy'])"
            ]
          },
          "metadata": {},
          "execution_count": 62
        }
      ],
      "source": [
        "history_dict = history.history\n",
        "history_dict.keys()"
      ]
    },
    {
      "cell_type": "code",
      "execution_count": 63,
      "metadata": {
        "colab": {
          "base_uri": "https://localhost:8080/",
          "height": 472
        },
        "id": "vJWtWjFRNGTc",
        "outputId": "8369d575-6675-4ae5-9332-4f401ec0eb70"
      },
      "outputs": [
        {
          "output_type": "display_data",
          "data": {
            "text/plain": [
              "<Figure size 640x480 with 1 Axes>"
            ],
            "image/png": "[encoded data removed]"
          },
          "metadata": {}
        }
      ],
      "source": [
        "plt.clf()   # clear figure\n",
        "\n",
        "acc = history.history['accuracy']\n",
        "val_acc = history.history['val_accuracy']\n",
        "val_acc_orig = val_acc\n",
        "\n",
        "plt.plot(epochs, acc, 'bo', label='Training acc')\n",
        "plt.plot(epochs, val_acc, 'b', label='Validation acc')\n",
        "plt.title('Training and validation accuracy')\n",
        "plt.xlabel('Epochs')\n",
        "plt.ylabel('Accuracy')\n",
        "plt.legend()\n",
        "\n",
        "plt.show()"
      ]
    },
    {
      "cell_type": "markdown",
      "metadata": {
        "id": "pGWj5gF3NGTc"
      },
      "source": [
        "It seems that the network starts overfitting after 8 epochs. Let's train a new network from scratch for 8 epochs, then let's evaluate it on\n",
        "the test set:"
      ]
    },
    {
      "cell_type": "code",
      "execution_count": 64,
      "metadata": {
        "colab": {
          "base_uri": "https://localhost:8080/"
        },
        "id": "rAIy_JWGNGTc",
        "outputId": "b47e1fc1-08a0-4607-f319-b68e13f0a528"
      },
      "outputs": [
        {
          "output_type": "stream",
          "name": "stdout",
          "text": [
            "Epoch 1/8\n",
            "16/16 [==============================] - 1s 65ms/step - loss: 2.5522 - accuracy: 0.5353 - val_loss: 1.6998 - val_accuracy: 0.6330\n",
            "Epoch 2/8\n",
            "16/16 [==============================] - 1s 51ms/step - loss: 1.4590 - accuracy: 0.6887 - val_loss: 1.3199 - val_accuracy: 0.6970\n",
            "Epoch 3/8\n",
            "16/16 [==============================] - 1s 46ms/step - loss: 1.1353 - accuracy: 0.7473 - val_loss: 1.1669 - val_accuracy: 0.7310\n",
            "Epoch 4/8\n",
            "16/16 [==============================] - 1s 47ms/step - loss: 0.9326 - accuracy: 0.7938 - val_loss: 1.0565 - val_accuracy: 0.7610\n",
            "Epoch 5/8\n",
            "16/16 [==============================] - 1s 48ms/step - loss: 0.7797 - accuracy: 0.8285 - val_loss: 0.9869 - val_accuracy: 0.7940\n",
            "Epoch 6/8\n",
            "16/16 [==============================] - 1s 45ms/step - loss: 0.6495 - accuracy: 0.8558 - val_loss: 0.9483 - val_accuracy: 0.7980\n",
            "Epoch 7/8\n",
            "16/16 [==============================] - 1s 57ms/step - loss: 0.5452 - accuracy: 0.8817 - val_loss: 0.9093 - val_accuracy: 0.8100\n",
            "Epoch 8/8\n",
            "16/16 [==============================] - 1s 79ms/step - loss: 0.4579 - accuracy: 0.9018 - val_loss: 0.9004 - val_accuracy: 0.8090\n",
            "71/71 [==============================] - 0s 5ms/step - loss: 0.9687 - accuracy: 0.7756\n"
          ]
        }
      ],
      "source": [
        "model = models.Sequential()\n",
        "model.add(layers.Dense(64, activation='relu', input_shape=(10000,)))\n",
        "model.add(layers.Dense(64, activation='relu'))\n",
        "model.add(layers.Dense(46, activation='softmax'))\n",
        "\n",
        "model.compile(optimizer='rmsprop',\n",
        "              loss='categorical_crossentropy',\n",
        "              metrics=['accuracy'])\n",
        "model.fit(partial_x_train,\n",
        "          partial_y_train,\n",
        "          epochs=8,\n",
        "          batch_size=512,\n",
        "          validation_data=(x_val, y_val))\n",
        "results = model.evaluate(x_test, one_hot_test_labels)"
      ]
    },
    {
      "cell_type": "code",
      "execution_count": 65,
      "metadata": {
        "colab": {
          "base_uri": "https://localhost:8080/"
        },
        "id": "Q1MxjubCNGTd",
        "outputId": "915ed8db-464e-4d2c-c32b-63e8d9070ef7"
      },
      "outputs": [
        {
          "output_type": "execute_result",
          "data": {
            "text/plain": [
              "[0.968705952167511, 0.7756010890007019]"
            ]
          },
          "metadata": {},
          "execution_count": 65
        }
      ],
      "source": [
        "results"
      ]
    },
    {
      "cell_type": "markdown",
      "metadata": {
        "id": "2ZNPOWgpNGTd"
      },
      "source": [
        "\n",
        "Our approach reaches an accuracy of ~78%. With a balanced binary classification problem, the accuracy reached by a purely random classifier\n",
        "would be 50%, but in our case it is closer to 19%, so our results seem pretty good, at least when compared to a random baseline:"
      ]
    },
    {
      "cell_type": "code",
      "execution_count": 66,
      "metadata": {
        "colab": {
          "base_uri": "https://localhost:8080/"
        },
        "id": "tKUZYiB2NGTd",
        "outputId": "cf28f64e-f007-4414-badf-678644714dbc"
      },
      "outputs": [
        {
          "output_type": "execute_result",
          "data": {
            "text/plain": [
              "0.19456812110418523"
            ]
          },
          "metadata": {},
          "execution_count": 66
        }
      ],
      "source": [
        "import copy\n",
        "\n",
        "test_labels_copy = copy.copy(test_labels)\n",
        "np.random.shuffle(test_labels_copy)\n",
        "float(np.sum(np.array(test_labels) == np.array(test_labels_copy))) / len(test_labels)"
      ]
    },
    {
      "cell_type": "markdown",
      "metadata": {
        "id": "CFFIqD5NNGTd"
      },
      "source": [
        "## Generating predictions on new data\n",
        "\n",
        "We can verify that the `predict` method of our model instance returns a probability distribution over all 46 topics. Let's generate topic\n",
        "predictions for all of the test data:"
      ]
    },
    {
      "cell_type": "code",
      "execution_count": 67,
      "metadata": {
        "colab": {
          "base_uri": "https://localhost:8080/"
        },
        "id": "H7qnNDOKNGTd",
        "outputId": "76ad8901-c741-45d8-9834-3f7a87c9d190"
      },
      "outputs": [
        {
          "output_type": "stream",
          "name": "stdout",
          "text": [
            "71/71 [==============================] - 0s 3ms/step\n"
          ]
        }
      ],
      "source": [
        "predictions = model.predict(x_test)"
      ]
    },
    {
      "cell_type": "markdown",
      "metadata": {
        "id": "D_oQYv2nNGTe"
      },
      "source": [
        "Each entry in `predictions` is a vector of length 46:"
      ]
    },
    {
      "cell_type": "code",
      "execution_count": 68,
      "metadata": {
        "colab": {
          "base_uri": "https://localhost:8080/"
        },
        "id": "y2Gnwet7NGTe",
        "outputId": "29460d7d-7139-4fa7-8add-f2be454bc8a1"
      },
      "outputs": [
        {
          "output_type": "execute_result",
          "data": {
            "text/plain": [
              "(46,)"
            ]
          },
          "metadata": {},
          "execution_count": 68
        }
      ],
      "source": [
        "predictions[0].shape"
      ]
    },
    {
      "cell_type": "markdown",
      "metadata": {
        "id": "qYz2b0R7NGTe"
      },
      "source": [
        "The coefficients in this vector sum to 1:"
      ]
    },
    {
      "cell_type": "code",
      "execution_count": 69,
      "metadata": {
        "colab": {
          "base_uri": "https://localhost:8080/"
        },
        "id": "Cd5U--LuNGTe",
        "outputId": "b4d14918-b516-4198-8ea2-3a8c4aa83220"
      },
      "outputs": [
        {
          "output_type": "execute_result",
          "data": {
            "text/plain": [
              "0.9999999"
            ]
          },
          "metadata": {},
          "execution_count": 69
        }
      ],
      "source": [
        "np.sum(predictions[0])"
      ]
    },
    {
      "cell_type": "markdown",
      "metadata": {
        "id": "X7egmaOzNGTe"
      },
      "source": [
        "The largest entry is the predicted class, i.e. the class with the highest probability:"
      ]
    },
    {
      "cell_type": "code",
      "execution_count": 70,
      "metadata": {
        "colab": {
          "base_uri": "https://localhost:8080/"
        },
        "id": "wMBTevo5NGTe",
        "outputId": "de515b45-117e-441f-e5f9-244895390842"
      },
      "outputs": [
        {
          "output_type": "execute_result",
          "data": {
            "text/plain": [
              "3"
            ]
          },
          "metadata": {},
          "execution_count": 70
        }
      ],
      "source": [
        "np.argmax(predictions[0])"
      ]
    },
    {
      "cell_type": "markdown",
      "metadata": {
        "id": "fJLHDrp7NGTf"
      },
      "source": [
        "## A different way to handle the labels and the loss\n",
        "\n",
        "We mentioned earlier that another way to encode the labels would be to cast them as an integer tensor, like such:"
      ]
    },
    {
      "cell_type": "code",
      "execution_count": 71,
      "metadata": {
        "id": "CNqfg5O1NGTf"
      },
      "outputs": [],
      "source": [
        "y_train = np.array(train_labels)\n",
        "y_test = np.array(test_labels)"
      ]
    },
    {
      "cell_type": "code",
      "execution_count": 72,
      "metadata": {
        "colab": {
          "base_uri": "https://localhost:8080/"
        },
        "id": "3Mm8G_5LNGTf",
        "outputId": "091e10f0-7032-4491-87fe-e276465d99cf"
      },
      "outputs": [
        {
          "output_type": "stream",
          "name": "stdout",
          "text": [
            "[ 3  4  3 ... 25  3 25]\n"
          ]
        }
      ],
      "source": [
        "print(y_train)"
      ]
    },
    {
      "cell_type": "markdown",
      "metadata": {
        "id": "BaB64pQZNGTf"
      },
      "source": [
        "\n",
        "The only thing it would change is the choice of the loss function. Our previous loss, `categorical_crossentropy`, expects the labels to\n",
        "follow a categorical encoding. With integer labels, we should use `sparse_categorical_crossentropy`:"
      ]
    },
    {
      "cell_type": "code",
      "execution_count": 73,
      "metadata": {
        "id": "OhNLTlQaNGTf"
      },
      "outputs": [],
      "source": [
        "model.compile(optimizer='rmsprop', loss='sparse_categorical_crossentropy', metrics=['acc'])"
      ]
    },
    {
      "cell_type": "markdown",
      "metadata": {
        "id": "RbfACBtLNGTf"
      },
      "source": [
        "This new loss function is still mathematically the same as `categorical_crossentropy`; it just has a different interface."
      ]
    },
    {
      "cell_type": "markdown",
      "metadata": {
        "id": "NRQAYYPBNGTf"
      },
      "source": [
        "## On the importance of having sufficiently large intermediate layers\n",
        "\n",
        "\n",
        "We mentioned earlier that since our final outputs were 46-dimensional, we should avoid intermediate layers with much less than 46 hidden\n",
        "units. Now let's try to see what happens when we introduce an information bottleneck by having intermediate layers significantly less than\n",
        "46-dimensional, e.g. 4-dimensional."
      ]
    },
    {
      "cell_type": "code",
      "execution_count": 74,
      "metadata": {
        "colab": {
          "base_uri": "https://localhost:8080/"
        },
        "id": "5gCH8azyNGTf",
        "outputId": "b612518b-f1ac-4707-f017-574c2bb819c4"
      },
      "outputs": [
        {
          "output_type": "stream",
          "name": "stdout",
          "text": [
            "Epoch 1/20\n",
            "63/63 [==============================] - 2s 18ms/step - loss: 2.8961 - accuracy: 0.4024 - val_loss: 2.1708 - val_accuracy: 0.5380\n",
            "Epoch 2/20\n",
            "63/63 [==============================] - 1s 15ms/step - loss: 1.8466 - accuracy: 0.6069 - val_loss: 1.6572 - val_accuracy: 0.5990\n",
            "Epoch 3/20\n",
            "63/63 [==============================] - 2s 25ms/step - loss: 1.5011 - accuracy: 0.6369 - val_loss: 1.4895 - val_accuracy: 0.6250\n",
            "Epoch 4/20\n",
            "63/63 [==============================] - 1s 15ms/step - loss: 1.3452 - accuracy: 0.6517 - val_loss: 1.4334 - val_accuracy: 0.6300\n",
            "Epoch 5/20\n",
            "63/63 [==============================] - 1s 15ms/step - loss: 1.2439 - accuracy: 0.6639 - val_loss: 1.3855 - val_accuracy: 0.6380\n",
            "Epoch 6/20\n",
            "63/63 [==============================] - 1s 15ms/step - loss: 1.1455 - accuracy: 0.6901 - val_loss: 1.3347 - val_accuracy: 0.6630\n",
            "Epoch 7/20\n",
            "63/63 [==============================] - 1s 15ms/step - loss: 1.0506 - accuracy: 0.7108 - val_loss: 1.2946 - val_accuracy: 0.6780\n",
            "Epoch 8/20\n",
            "63/63 [==============================] - 1s 18ms/step - loss: 0.9683 - accuracy: 0.7285 - val_loss: 1.2991 - val_accuracy: 0.6870\n",
            "Epoch 9/20\n",
            "63/63 [==============================] - 2s 25ms/step - loss: 0.8964 - accuracy: 0.7552 - val_loss: 1.2700 - val_accuracy: 0.7010\n",
            "Epoch 10/20\n",
            "63/63 [==============================] - 1s 20ms/step - loss: 0.8326 - accuracy: 0.7752 - val_loss: 1.3034 - val_accuracy: 0.6980\n",
            "Epoch 11/20\n",
            "63/63 [==============================] - 1s 15ms/step - loss: 0.7781 - accuracy: 0.7947 - val_loss: 1.2962 - val_accuracy: 0.7070\n",
            "Epoch 12/20\n",
            "63/63 [==============================] - 1s 15ms/step - loss: 0.7316 - accuracy: 0.8067 - val_loss: 1.3086 - val_accuracy: 0.7150\n",
            "Epoch 13/20\n",
            "63/63 [==============================] - 1s 15ms/step - loss: 0.6900 - accuracy: 0.8156 - val_loss: 1.3615 - val_accuracy: 0.7070\n",
            "Epoch 14/20\n",
            "63/63 [==============================] - 1s 15ms/step - loss: 0.6552 - accuracy: 0.8186 - val_loss: 1.3554 - val_accuracy: 0.7140\n",
            "Epoch 15/20\n",
            "63/63 [==============================] - 1s 15ms/step - loss: 0.6221 - accuracy: 0.8264 - val_loss: 1.3979 - val_accuracy: 0.7140\n",
            "Epoch 16/20\n",
            "63/63 [==============================] - 1s 15ms/step - loss: 0.5915 - accuracy: 0.8324 - val_loss: 1.3965 - val_accuracy: 0.7180\n",
            "Epoch 17/20\n",
            "63/63 [==============================] - 1s 15ms/step - loss: 0.5619 - accuracy: 0.8472 - val_loss: 1.4719 - val_accuracy: 0.7160\n",
            "Epoch 18/20\n",
            "63/63 [==============================] - 1s 15ms/step - loss: 0.5395 - accuracy: 0.8544 - val_loss: 1.4707 - val_accuracy: 0.7150\n",
            "Epoch 19/20\n",
            "63/63 [==============================] - 1s 15ms/step - loss: 0.5178 - accuracy: 0.8593 - val_loss: 1.5199 - val_accuracy: 0.7210\n",
            "Epoch 20/20\n",
            "63/63 [==============================] - 1s 15ms/step - loss: 0.4965 - accuracy: 0.8670 - val_loss: 1.5564 - val_accuracy: 0.7180\n"
          ]
        },
        {
          "output_type": "execute_result",
          "data": {
            "text/plain": [
              "<keras.src.callbacks.History at 0x79df9fed5660>"
            ]
          },
          "metadata": {},
          "execution_count": 74
        }
      ],
      "source": [
        "model = models.Sequential()\n",
        "model.add(layers.Dense(64, activation='relu', input_shape=(10000,)))\n",
        "model.add(layers.Dense(4, activation='relu'))\n",
        "model.add(layers.Dense(46, activation='softmax'))\n",
        "\n",
        "model.compile(optimizer='rmsprop',\n",
        "              loss='categorical_crossentropy',\n",
        "              metrics=['accuracy'])\n",
        "model.fit(partial_x_train,\n",
        "          partial_y_train,\n",
        "          epochs=20,\n",
        "          batch_size=128,\n",
        "          validation_data=(x_val, y_val))"
      ]
    },
    {
      "cell_type": "markdown",
      "metadata": {
        "id": "F1QpmaFZNGTf"
      },
      "source": [
        "\n",
        "Our network now seems to peak at ~71% test accuracy, a 8% absolute drop. This drop is mostly due to the fact that we are now trying to\n",
        "compress a lot of information (enough information to recover the separation hyperplanes of 46 classes) into an intermediate space that is\n",
        "too low-dimensional. The network is able to cram _most_ of the necessary information into these 8-dimensional representations, but not all\n",
        "of it."
      ]
    },
    {
      "cell_type": "markdown",
      "metadata": {
        "id": "QsUeXn_gNGTg"
      },
      "source": [
        "## Wrapping up\n",
        "\n",
        "\n",
        "Here's what you should take away from this example:\n",
        "\n",
        "* If you are trying to classify data points between N classes, your network should end with a `Dense` layer of size N.\n",
        "* In a single-label, multi-class classification problem, your network should end with a `softmax` activation, so that it will output a\n",
        "probability distribution over the N output classes.\n",
        "* _Categorical crossentropy_ is almost always the loss function you should use for such problems. It minimizes the distance between the\n",
        "probability distributions output by the network, and the true distribution of the targets.\n",
        "* There are two ways to handle labels in multi-class classification:\n",
        "    ** Encoding the labels via \"categorical encoding\" (also known as \"one-hot encoding\") and using `categorical_crossentropy` as your loss\n",
        "function.\n",
        "    ** Encoding the labels as integers and using the `sparse_categorical_crossentropy` loss function.\n",
        "* If you need to classify data into a large number of categories, then you should avoid creating information bottlenecks in your network by having\n",
        "intermediate layers that are too small."
      ]
    },
    {
      "cell_type": "markdown",
      "source": [
        "# **Problem 6 with 1 Layer**"
      ],
      "metadata": {
        "id": "5Sph2JZ8ZaCR"
      }
    },
    {
      "cell_type": "code",
      "source": [
        "from tensorflow.keras import models\n",
        "from tensorflow.keras import layers\n",
        "\n",
        "model = models.Sequential()\n",
        "model.add(layers.Dense(64, activation='relu', input_shape=(10000,)))\n",
        "#model.add(layers.Dense(64, activation='relu'))\n",
        "model.add(layers.Dense(46, activation='softmax'))\n",
        "\n",
        "model.compile(optimizer='rmsprop',\n",
        "              loss='categorical_crossentropy',\n",
        "              metrics=['accuracy'])\n",
        "\n",
        "\n",
        "x_val = x_train[:1000]\n",
        "partial_x_train = x_train[1000:]\n",
        "\n",
        "y_val = one_hot_train_labels[:1000]\n",
        "partial_y_train = one_hot_train_labels[1000:]\n",
        "\n",
        "\n",
        "history = model.fit(partial_x_train,\n",
        "                    partial_y_train,\n",
        "                    epochs=20,\n",
        "                    batch_size=512,\n",
        "                    validation_data=(x_val, y_val))\n"
      ],
      "metadata": {
        "colab": {
          "base_uri": "https://localhost:8080/"
        },
        "id": "ItQBnYGeZa6B",
        "outputId": "151467df-c464-4fdd-bb12-a9c79cbc33d8"
      },
      "execution_count": 75,
      "outputs": [
        {
          "output_type": "stream",
          "name": "stdout",
          "text": [
            "Epoch 1/20\n",
            "16/16 [==============================] - 2s 99ms/step - loss: 2.6028 - accuracy: 0.5445 - val_loss: 1.8273 - val_accuracy: 0.6370\n",
            "Epoch 2/20\n",
            "16/16 [==============================] - 1s 47ms/step - loss: 1.5304 - accuracy: 0.6977 - val_loss: 1.3786 - val_accuracy: 0.7110\n",
            "Epoch 3/20\n",
            "16/16 [==============================] - 1s 45ms/step - loss: 1.1572 - accuracy: 0.7608 - val_loss: 1.1759 - val_accuracy: 0.7610\n",
            "Epoch 4/20\n",
            "16/16 [==============================] - 1s 46ms/step - loss: 0.9406 - accuracy: 0.8034 - val_loss: 1.0524 - val_accuracy: 0.7830\n",
            "Epoch 5/20\n",
            "16/16 [==============================] - 1s 45ms/step - loss: 0.7858 - accuracy: 0.8349 - val_loss: 0.9822 - val_accuracy: 0.7840\n",
            "Epoch 6/20\n",
            "16/16 [==============================] - 1s 45ms/step - loss: 0.6667 - accuracy: 0.8644 - val_loss: 0.9199 - val_accuracy: 0.8020\n",
            "Epoch 7/20\n",
            "16/16 [==============================] - 1s 48ms/step - loss: 0.5698 - accuracy: 0.8859 - val_loss: 0.8781 - val_accuracy: 0.8130\n",
            "Epoch 8/20\n",
            "16/16 [==============================] - 1s 47ms/step - loss: 0.4908 - accuracy: 0.9000 - val_loss: 0.8402 - val_accuracy: 0.8200\n",
            "Epoch 9/20\n",
            "16/16 [==============================] - 1s 47ms/step - loss: 0.4261 - accuracy: 0.9136 - val_loss: 0.8205 - val_accuracy: 0.8260\n",
            "Epoch 10/20\n",
            "16/16 [==============================] - 1s 46ms/step - loss: 0.3722 - accuracy: 0.9243 - val_loss: 0.7989 - val_accuracy: 0.8260\n",
            "Epoch 11/20\n",
            "16/16 [==============================] - 1s 47ms/step - loss: 0.3268 - accuracy: 0.9328 - val_loss: 0.7948 - val_accuracy: 0.8270\n",
            "Epoch 12/20\n",
            "16/16 [==============================] - 1s 47ms/step - loss: 0.2909 - accuracy: 0.9369 - val_loss: 0.7916 - val_accuracy: 0.8250\n",
            "Epoch 13/20\n",
            "16/16 [==============================] - 1s 49ms/step - loss: 0.2614 - accuracy: 0.9415 - val_loss: 0.7797 - val_accuracy: 0.8320\n",
            "Epoch 14/20\n",
            "16/16 [==============================] - 1s 45ms/step - loss: 0.2356 - accuracy: 0.9455 - val_loss: 0.7804 - val_accuracy: 0.8310\n",
            "Epoch 15/20\n",
            "16/16 [==============================] - 1s 67ms/step - loss: 0.2149 - accuracy: 0.9485 - val_loss: 0.7806 - val_accuracy: 0.8340\n",
            "Epoch 16/20\n",
            "16/16 [==============================] - 1s 79ms/step - loss: 0.1980 - accuracy: 0.9496 - val_loss: 0.7825 - val_accuracy: 0.8330\n",
            "Epoch 17/20\n",
            "16/16 [==============================] - 1s 66ms/step - loss: 0.1823 - accuracy: 0.9529 - val_loss: 0.7912 - val_accuracy: 0.8240\n",
            "Epoch 18/20\n",
            "16/16 [==============================] - 1s 45ms/step - loss: 0.1689 - accuracy: 0.9555 - val_loss: 0.7892 - val_accuracy: 0.8260\n",
            "Epoch 19/20\n",
            "16/16 [==============================] - 1s 46ms/step - loss: 0.1593 - accuracy: 0.9551 - val_loss: 0.7910 - val_accuracy: 0.8290\n",
            "Epoch 20/20\n",
            "16/16 [==============================] - 1s 45ms/step - loss: 0.1485 - accuracy: 0.9541 - val_loss: 0.8139 - val_accuracy: 0.8270\n"
          ]
        }
      ]
    },
    {
      "cell_type": "code",
      "source": [
        "import matplotlib.pyplot as plt\n",
        "\n",
        "loss = history.history['loss']\n",
        "val_loss = history.history['val_loss']\n",
        "val_loss1 = val_loss\n",
        "\n",
        "epochs = range(1, len(loss) + 1)\n",
        "\n",
        "plt.plot(epochs, loss, 'bo', label='Training loss')\n",
        "plt.plot(epochs, val_loss, 'b', label='Validation loss')\n",
        "plt.title('Training and validation loss')\n",
        "plt.xlabel('Epochs')\n",
        "plt.ylabel('Loss')\n",
        "plt.legend()\n",
        "\n",
        "plt.show()"
      ],
      "metadata": {
        "colab": {
          "base_uri": "https://localhost:8080/",
          "height": 472
        },
        "id": "vp7gVBlaZ7Qi",
        "outputId": "98dd38dd-7aa9-40a3-db47-cdf1798263ca"
      },
      "execution_count": 76,
      "outputs": [
        {
          "output_type": "display_data",
          "data": {
            "text/plain": [
              "<Figure size 640x480 with 1 Axes>"
            ],
            "image/png": "[encoded data removed]"
          },
          "metadata": {}
        }
      ]
    },
    {
      "cell_type": "code",
      "source": [
        "plt.clf()   # clear figure\n",
        "\n",
        "acc = history.history['accuracy']\n",
        "val_acc = history.history['val_accuracy']\n",
        "val_acc1 = val_acc\n",
        "\n",
        "plt.plot(epochs, acc, 'bo', label='Training acc')\n",
        "plt.plot(epochs, val_acc, 'b', label='Validation acc')\n",
        "plt.title('Training and validation accuracy')\n",
        "plt.xlabel('Epochs')\n",
        "plt.ylabel('Accuracy')\n",
        "plt.legend()\n",
        "\n",
        "plt.show()"
      ],
      "metadata": {
        "colab": {
          "base_uri": "https://localhost:8080/",
          "height": 472
        },
        "id": "cBKJoFQoZ8Jm",
        "outputId": "1f5f4ec5-be9c-4dc7-e93a-1a5ea0717592"
      },
      "execution_count": 77,
      "outputs": [
        {
          "output_type": "display_data",
          "data": {
            "text/plain": [
              "<Figure size 640x480 with 1 Axes>"
            ],
            "image/png": "[encoded data removed]"
          },
          "metadata": {}
        }
      ]
    },
    {
      "cell_type": "markdown",
      "source": [
        "# **Problem 6 with 3 hidden layers**"
      ],
      "metadata": {
        "id": "9ApWjcH-aUV1"
      }
    },
    {
      "cell_type": "code",
      "source": [
        "from tensorflow.keras import models\n",
        "from tensorflow.keras import layers\n",
        "\n",
        "model = models.Sequential()\n",
        "model.add(layers.Dense(64, activation='relu', input_shape=(10000,)))\n",
        "model.add(layers.Dense(64, activation='relu'))\n",
        "model.add(layers.Dense(64, activation='relu')) ##Additional Hidden Layer\n",
        "model.add(layers.Dense(46, activation='softmax'))\n",
        "\n",
        "model.compile(optimizer='rmsprop',\n",
        "              loss='categorical_crossentropy',\n",
        "              metrics=['accuracy'])\n",
        "\n",
        "\n",
        "x_val = x_train[:1000]\n",
        "partial_x_train = x_train[1000:]\n",
        "\n",
        "y_val = one_hot_train_labels[:1000]\n",
        "partial_y_train = one_hot_train_labels[1000:]\n",
        "\n",
        "\n",
        "history = model.fit(partial_x_train,\n",
        "                    partial_y_train,\n",
        "                    epochs=20,\n",
        "                    batch_size=512,\n",
        "                    validation_data=(x_val, y_val))"
      ],
      "metadata": {
        "colab": {
          "base_uri": "https://localhost:8080/"
        },
        "id": "T5U8JrdGaU5T",
        "outputId": "c38038f0-3c81-45cc-c7dc-9e936f71e1f9"
      },
      "execution_count": 78,
      "outputs": [
        {
          "output_type": "stream",
          "name": "stdout",
          "text": [
            "Epoch 1/20\n",
            "16/16 [==============================] - 3s 152ms/step - loss: 2.7378 - accuracy: 0.4328 - val_loss: 1.8123 - val_accuracy: 0.5910\n",
            "Epoch 2/20\n",
            "16/16 [==============================] - 2s 116ms/step - loss: 1.5698 - accuracy: 0.6434 - val_loss: 1.4088 - val_accuracy: 0.6670\n",
            "Epoch 3/20\n",
            "16/16 [==============================] - 1s 90ms/step - loss: 1.2422 - accuracy: 0.7176 - val_loss: 1.2214 - val_accuracy: 0.7170\n",
            "Epoch 4/20\n",
            "16/16 [==============================] - 1s 51ms/step - loss: 1.0229 - accuracy: 0.7697 - val_loss: 1.1222 - val_accuracy: 0.7400\n",
            "Epoch 5/20\n",
            "16/16 [==============================] - 1s 50ms/step - loss: 0.8656 - accuracy: 0.8044 - val_loss: 1.0423 - val_accuracy: 0.7600\n",
            "Epoch 6/20\n",
            "16/16 [==============================] - 1s 48ms/step - loss: 0.7101 - accuracy: 0.8391 - val_loss: 1.0791 - val_accuracy: 0.7680\n",
            "Epoch 7/20\n",
            "16/16 [==============================] - 1s 49ms/step - loss: 0.6023 - accuracy: 0.8662 - val_loss: 0.9552 - val_accuracy: 0.7940\n",
            "Epoch 8/20\n",
            "16/16 [==============================] - 1s 50ms/step - loss: 0.4979 - accuracy: 0.8857 - val_loss: 0.9529 - val_accuracy: 0.7950\n",
            "Epoch 9/20\n",
            "16/16 [==============================] - 1s 50ms/step - loss: 0.4056 - accuracy: 0.9095 - val_loss: 0.9466 - val_accuracy: 0.8000\n",
            "Epoch 10/20\n",
            "16/16 [==============================] - 1s 47ms/step - loss: 0.3480 - accuracy: 0.9235 - val_loss: 1.0351 - val_accuracy: 0.7890\n",
            "Epoch 11/20\n",
            "16/16 [==============================] - 1s 44ms/step - loss: 0.3003 - accuracy: 0.9337 - val_loss: 0.9803 - val_accuracy: 0.8100\n",
            "Epoch 12/20\n",
            "16/16 [==============================] - 1s 46ms/step - loss: 0.2533 - accuracy: 0.9421 - val_loss: 1.0466 - val_accuracy: 0.7880\n",
            "Epoch 13/20\n",
            "16/16 [==============================] - 1s 46ms/step - loss: 0.2388 - accuracy: 0.9425 - val_loss: 0.9864 - val_accuracy: 0.8110\n",
            "Epoch 14/20\n",
            "16/16 [==============================] - 1s 44ms/step - loss: 0.1964 - accuracy: 0.9508 - val_loss: 0.9956 - val_accuracy: 0.8080\n",
            "Epoch 15/20\n",
            "16/16 [==============================] - 1s 45ms/step - loss: 0.1912 - accuracy: 0.9504 - val_loss: 1.0437 - val_accuracy: 0.7950\n",
            "Epoch 16/20\n",
            "16/16 [==============================] - 1s 59ms/step - loss: 0.1726 - accuracy: 0.9518 - val_loss: 1.0853 - val_accuracy: 0.7880\n",
            "Epoch 17/20\n",
            "16/16 [==============================] - 1s 72ms/step - loss: 0.1640 - accuracy: 0.9535 - val_loss: 1.0735 - val_accuracy: 0.7940\n",
            "Epoch 18/20\n",
            "16/16 [==============================] - 1s 78ms/step - loss: 0.1573 - accuracy: 0.9557 - val_loss: 1.1791 - val_accuracy: 0.7830\n",
            "Epoch 19/20\n",
            "16/16 [==============================] - 1s 53ms/step - loss: 0.1466 - accuracy: 0.9565 - val_loss: 1.1273 - val_accuracy: 0.7950\n",
            "Epoch 20/20\n",
            "16/16 [==============================] - 1s 48ms/step - loss: 0.1438 - accuracy: 0.9553 - val_loss: 1.1042 - val_accuracy: 0.8070\n"
          ]
        }
      ]
    },
    {
      "cell_type": "code",
      "source": [
        "import matplotlib.pyplot as plt\n",
        "\n",
        "loss = history.history['loss']\n",
        "val_loss = history.history['val_loss']\n",
        "val_loss2 = val_loss\n",
        "\n",
        "epochs = range(1, len(loss) + 1)\n",
        "\n",
        "plt.plot(epochs, loss, 'bo', label='Training loss')\n",
        "plt.plot(epochs, val_loss, 'b', label='Validation loss')\n",
        "plt.title('Training and validation loss')\n",
        "plt.xlabel('Epochs')\n",
        "plt.ylabel('Loss')\n",
        "plt.legend()\n",
        "\n",
        "plt.show()"
      ],
      "metadata": {
        "colab": {
          "base_uri": "https://localhost:8080/",
          "height": 472
        },
        "id": "5tDcEyWqaWZ3",
        "outputId": "ef25f1b1-02af-46bf-e15b-a87e73388097"
      },
      "execution_count": 79,
      "outputs": [
        {
          "output_type": "display_data",
          "data": {
            "text/plain": [
              "<Figure size 640x480 with 1 Axes>"
            ],
            "image/png": "[encoded data removed]"
          },
          "metadata": {}
        }
      ]
    },
    {
      "cell_type": "code",
      "source": [
        "plt.clf()   # clear figure\n",
        "\n",
        "acc = history.history['accuracy']\n",
        "val_acc = history.history['val_accuracy']\n",
        "val_acc2=val_acc\n",
        "\n",
        "plt.plot(epochs, acc, 'bo', label='Training acc')\n",
        "plt.plot(epochs, val_acc, 'b', label='Validation acc')\n",
        "plt.title('Training and validation accuracy')\n",
        "plt.xlabel('Epochs')\n",
        "plt.ylabel('Accuracy')\n",
        "plt.legend()\n",
        "\n",
        "plt.show()"
      ],
      "metadata": {
        "colab": {
          "base_uri": "https://localhost:8080/",
          "height": 472
        },
        "id": "LI1VOSTBaWLR",
        "outputId": "afe1f5cc-fa80-499e-c7c5-726a3147c086"
      },
      "execution_count": 80,
      "outputs": [
        {
          "output_type": "display_data",
          "data": {
            "text/plain": [
              "<Figure size 640x480 with 1 Axes>"
            ],
            "image/png": "[encoded data removed]"
          },
          "metadata": {}
        }
      ]
    },
    {
      "cell_type": "code",
      "source": [
        "plt.clf()   # clear figure\n",
        "\n",
        "import matplotlib.pyplot as plt\n",
        "\n",
        "\n",
        "\n",
        "epochs = range(1, len(loss) + 1)\n",
        "\n",
        "plt.plot(epochs, val_loss1, 'bo', label='Val loss1 1-layer')\n",
        "plt.plot(epochs, val_loss_orig, 'ro', label='Val loss 2-layers')\n",
        "plt.plot(epochs, val_loss2, 'b+', label='Val loss2 3-layers')\n",
        "\n",
        "plt.title('Comparison of validation losses across all models')\n",
        "plt.xlabel('Epochs')\n",
        "plt.ylabel('Loss')\n",
        "plt.legend()\n",
        "\n",
        "plt.show()"
      ],
      "metadata": {
        "colab": {
          "base_uri": "https://localhost:8080/",
          "height": 472
        },
        "id": "uugXWyhIfKMr",
        "outputId": "19fe6ccf-fea3-44d7-c5a0-da8c0a7d90ca"
      },
      "execution_count": 90,
      "outputs": [
        {
          "output_type": "display_data",
          "data": {
            "text/plain": [
              "<Figure size 640x480 with 1 Axes>"
            ],
            "image/png": "[encoded data removed]"
          },
          "metadata": {}
        }
      ]
    },
    {
      "cell_type": "code",
      "source": [
        "plt.clf()   # clear figure\n",
        "\n",
        "\n",
        "\n",
        "plt.plot(epochs, val_acc1, 'bo', label='Val acc1 1-layer')\n",
        "plt.plot(epochs, val_acc_orig, 'ro', label='Val acc 2-layers')\n",
        "plt.plot(epochs, val_acc2, 'b+', label='Val acc2 3-layers')\n",
        "\n",
        "plt.title('Comparison of validation accuracy across all models')\n",
        "plt.xlabel('Epochs')\n",
        "plt.ylabel('Accuracy')\n",
        "plt.legend()\n",
        "\n",
        "plt.show()"
      ],
      "metadata": {
        "colab": {
          "base_uri": "https://localhost:8080/",
          "height": 472
        },
        "id": "8SMbWxYGfAee",
        "outputId": "f052499a-d20b-4ff6-c480-526e9d0f38dd"
      },
      "execution_count": 89,
      "outputs": [
        {
          "output_type": "display_data",
          "data": {
            "text/plain": [
              "<Figure size 640x480 with 1 Axes>"
            ],
            "image/png": "[encoded data removed]"
          },
          "metadata": {}
        }
      ]
    },
    {
      "cell_type": "markdown",
      "source": [
        "## The loss is minimum at 13th epoch and then overfits for the 1-layer model.\n",
        "## The loss is minimum at 10th epoch and then overfits for the 2-layer model.\n",
        "## The loss is minimum at 9th epoch and then overfits for the 3-layer model.  \n",
        "## So it is better to use 3 layer model and stopping at 9th epoch itself."
      ],
      "metadata": {
        "id": "DMCfuTW8kCtL"
      }
    }
  ],
  "metadata": {
    "kernelspec": {
      "display_name": "Python 3 (ipykernel)",
      "language": "python",
      "name": "python3"
    },
    "language_info": {
      "codemirror_mode": {
        "name": "ipython",
        "version": 3
      },
      "file_extension": ".py",
      "mimetype": "text/x-python",
      "name": "python",
      "nbconvert_exporter": "python",
      "pygments_lexer": "ipython3",
      "version": "3.11.4"
    },
    "colab": {
      "provenance": []
    }
  },
  "nbformat": 4,
  "nbformat_minor": 0
}